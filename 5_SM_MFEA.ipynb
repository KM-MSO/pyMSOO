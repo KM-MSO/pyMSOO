{
 "cells": [
  {
   "attachments": {},
   "cell_type": "markdown",
   "metadata": {},
   "source": [
    "# Import"
   ]
  },
  {
   "cell_type": "code",
   "execution_count": 1,
   "metadata": {},
   "outputs": [],
   "source": [
    "import numpy as np\n",
    "import pandas as pd\n",
    "\n",
    "from pyMSOO.MFEA.model import SM_MFEA\n",
    "from pyMSOO.utils.Crossover import *\n",
    "from pyMSOO.utils.Mutation import *\n",
    "from pyMSOO.utils.Selection import *\n",
    "from pyMSOO.utils.DimensionAwareStrategy import DaS_strategy\n",
    "\n",
    "from pyMSOO.utils.EA import * \n",
    "from pyMSOO.MFEA.benchmark.continous.CEC17 import CEC17_benchmark \n",
    "from pyMSOO.MFEA.benchmark.continous.WCCI22 import WCCI22_benchmark\n",
    "\n",
    "from pyMSOO.utils.MultiRun.RunMultiTime import * \n",
    "from pyMSOO.utils.MultiRun.RunMultiBenchmark import * "
   ]
  },
  {
   "attachments": {},
   "cell_type": "markdown",
   "metadata": {},
   "source": [
    "# Run"
   ]
  },
  {
   "cell_type": "code",
   "execution_count": 2,
   "metadata": {},
   "outputs": [],
   "source": [
    "# tasks, IndClass = CEC17_benchmark.get_2tasks_benchmark(1)\n",
    "# tasks, IndClass = WCCI22_benchmark.get_complex_benchmark(1)\n",
    "tasks, IndClass = CEC17_benchmark.get_10tasks_benchmark()"
   ]
  },
  {
   "attachments": {},
   "cell_type": "markdown",
   "metadata": {},
   "source": [
    "1 time"
   ]
  },
  {
   "cell_type": "code",
   "execution_count": 3,
   "metadata": {},
   "outputs": [
    {
     "name": "stdout",
     "output_type": "stream",
     "text": [
      "Seed: None -- Time: 01m 43.66s  100 % [====================>]  Pop_size: 1.90E+02  ,  Cost: 2.89E-26  2.67E-26  0.00E+00  0.00E+00  2.93E-24  4.31E-14  0.00E+00  3.12E+03  7.40E-03  2.29E+01  ,  \n",
      "[0.1 0.1 0.1 0.1 0.1 0.1 0.1 0.1 0.1 0.1]\n",
      "[99664, 100644, 99916, 100062, 100524, 99288, 100066, 99558, 100012, 100296]\n",
      "END!\n"
     ]
    }
   ],
   "source": [
    "SM_SBX = SM_MFEA.model()\n",
    "SM_SBX.compile(\n",
    "    IndClass= IndClass,\n",
    "    tasks= tasks,\n",
    "    crossover= SBX_Crossover(nc = 2),\n",
    "    mutation= PolynomialMutation(nm = 5),\n",
    ")\n",
    "solve = SM_SBX.fit(\n",
    "    nb_generations= 1000, nb_inds_each_task= 100, nb_inds_min= 20,\n",
    "    lr = 0.1, mu=0.1,\n",
    "    evaluate_initial_skillFactor= True\n",
    ")"
   ]
  },
  {
   "cell_type": "code",
   "execution_count": 5,
   "metadata": {},
   "outputs": [
    {
     "name": "stdout",
     "output_type": "stream",
     "text": [
      "Seed: None -- Time: 01m 49.55s  100 % [====================>]  Pop_size: 1.90E+02  ,  Cost: 1.84E-26  1.45E-26  0.00E+00  0.00E+00  1.24E-24  4.31E-14  0.00E+00  6.36E-04  0.00E+00  0.00E+00  ,  \n",
      "[0.1 0.1 0.1 0.1 0.1 0.1 0.1 0.1 0.1 0.1]\n",
      "[100700, 99916, 99812, 99510, 99306, 100632, 99230, 99848, 100890, 100186]\n",
      "END!\n"
     ]
    }
   ],
   "source": [
    "SM_KL_SBX = SM_MFEA.model()\n",
    "SM_KL_SBX.compile(\n",
    "    IndClass= IndClass,\n",
    "    tasks= tasks,\n",
    "    crossover= DaS_SBX_Crossover(nc = 2),\n",
    "    mutation= PolynomialMutation(nm = 5),\n",
    ")\n",
    "solve = SM_KL_SBX.fit(\n",
    "    nb_generations= 1000, nb_inds_each_task= 100, nb_inds_min= 20,\n",
    "    lr = 0.1, mu=0.1,\n",
    "    evaluate_initial_skillFactor= True\n",
    ")"
   ]
  },
  {
   "cell_type": "code",
   "execution_count": 6,
   "metadata": {},
   "outputs": [
    {
     "data": {
      "text/plain": [
       "array([0.91604249, 0.91256795, 0.98857103, 0.98516035, 0.90975089,\n",
       "       0.02      , 0.98846469, 0.02      , 0.91484108, 0.98705149,\n",
       "       0.98765445, 0.99364588, 0.98835255, 0.90767182, 0.9122587 ,\n",
       "       0.98786872, 0.02      , 0.91195157, 0.98551478, 0.9144308 ,\n",
       "       0.98633307, 0.91234604, 0.91421428, 0.91185109, 0.91353229,\n",
       "       0.02      , 0.02      , 0.02      , 0.02      , 0.02      ,\n",
       "       0.02      , 0.02      , 0.02      , 0.02      , 0.02      ,\n",
       "       0.02      , 0.02      , 0.02      , 0.02      , 0.02      ,\n",
       "       0.02      , 0.02      , 0.02      , 0.02      , 0.02      ,\n",
       "       0.02      , 0.02      , 0.02      , 0.02      , 0.02      ])"
      ]
     },
     "execution_count": 6,
     "metadata": {},
     "output_type": "execute_result"
    }
   ],
   "source": [
    "SM_KL_SBX.crossover.prob[9][1]"
   ]
  },
  {
   "cell_type": "code",
   "execution_count": 3,
   "metadata": {},
   "outputs": [
    {
     "name": "stdout",
     "output_type": "stream",
     "text": [
      "Seed: None -- Time: 01m 51.10s  100 % [====================>]  Pop_size: 1.90E+02  ,  Cost: 1.74E-26  3.55E-26  0.00E+00  0.00E+00  1.09E-24  5.02E-14  0.00E+00  6.36E-04  0.00E+00  0.00E+00  ,  \n",
      "[0.1 0.1 0.1 0.1 0.1 0.1 0.1 0.1 0.1 0.1]\n",
      "[99852, 100540, 99826, 99210, 99790, 100062, 99576, 100608, 99664, 100902]\n",
      "END!\n"
     ]
    }
   ],
   "source": [
    "SM_DaS = SM_MFEA.model()\n",
    "SM_DaS.compile(\n",
    "    IndClass= IndClass,\n",
    "    tasks= tasks,\n",
    "    crossover= SBX_Crossover(nc = 2),\n",
    "    mutation= PolynomialMutation(nm = 5),\n",
    "    dimension_strategy= DaS_strategy(eta= 3)\n",
    ")\n",
    "solve = SM_DaS.fit(\n",
    "    nb_generations= 1000, nb_inds_each_task= 100, nb_inds_min= 20,\n",
    "    lr = 0.1, mu=0.1,\n",
    "    evaluate_initial_skillFactor= True\n",
    ")"
   ]
  },
  {
   "cell_type": "code",
   "execution_count": null,
   "metadata": {},
   "outputs": [],
   "source": []
  }
 ],
 "metadata": {
  "kernelspec": {
   "display_name": "pyMSOO",
   "language": "python",
   "name": "python3"
  },
  "language_info": {
   "codemirror_mode": {
    "name": "ipython",
    "version": 3
   },
   "file_extension": ".py",
   "mimetype": "text/x-python",
   "name": "python",
   "nbconvert_exporter": "python",
   "pygments_lexer": "ipython3",
   "version": "3.8.0"
  },
  "orig_nbformat": 4,
  "vscode": {
   "interpreter": {
    "hash": "c73222a8935ee4ea3abd391223ae44e72c1928dd14faacaa576406413b4d79f3"
   }
  }
 },
 "nbformat": 4,
 "nbformat_minor": 2
}
