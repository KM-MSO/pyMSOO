{
 "cells": [
  {
   "cell_type": "code",
   "execution_count": 1,
   "metadata": {},
   "outputs": [],
   "source": [
    "from pyMSOO.MFEA.model import MFEA_base, SM_MFEA, LSA21\n",
    "from pyMSOO.MFEA.competitionModel import SM_MFEA_Competition\n",
    "from pyMSOO.utils.Crossover import *\n",
    "from pyMSOO.utils.Mutation import *\n",
    "from pyMSOO.utils.Selection import *\n",
    "from pyMSOO.utils.Search import * \n",
    "from pyMSOO.MFEA.benchmark.continous import *\n",
    "from pyMSOO.utils.MultiRun.RunMultiTime import * \n",
    "\n",
    "from pyMSOO.utils.EA import * \n",
    "from pyMSOO.MFEA.benchmark.continous.CEC17 import CEC17_benchmark \n",
    "from pyMSOO.MFEA.benchmark.continous.WCCI22 import WCCI22_benchmark\n",
    "from pyMSOO.MFEA.benchmark.continous.funcs import * \n",
    "from pyMSOO.utils.DimensionAwareStrategy import DaS_strategy, NoDaS\n",
    "from pyMSOO.utils.MultiRun.RunMultiTime import * \n",
    "from pyMSOO.utils.MultiRun.RunMultiBenchmark import * \n",
    "\n",
    "from pyMSOO.utils.LoadSaveModel.load_utils import loadModel, loadModelFromTxt\n",
    "from pyMSOO.utils.LoadSaveModel.save_utils import export_history2txt\n",
    "\n",
    "from pyMSOO.utils.numba_utils import *\n",
    "from pyMSOO.utils.Compare.compareModel import CompareModel\n",
    "\n",
    "import pandas as pd \n",
    "import numpy as np \n",
    "import os "
   ]
  },
  {
   "cell_type": "code",
   "execution_count": 2,
   "metadata": {},
   "outputs": [],
   "source": [
    "# tasks, IndClass = CEC17_benchmark.get_2tasks_benchmark(1)\n",
    "# tasks, IndClass = WCCI22_benchmark.get_complex_benchmark(1)\n",
    "tasks, IndClass = CEC17_benchmark.get_10tasks_benchmark()"
   ]
  },
  {
   "cell_type": "code",
   "execution_count": 3,
   "metadata": {},
   "outputs": [
    {
     "name": "stdout",
     "output_type": "stream",
     "text": [
      "Seed: None -- Time: 01m 39.70s  100 % [====================>]  Pop_size: 1.90E+02  ,  Cost: 2.52E-26  5.54E-22  0.00E+00  0.00E+00  2.69E-07  2.64E-11  0.00E+00  1.18E+02  0.00E+00  0.00E+00  ,  \n",
      "[0.1 0.1 0.1 0.1 0.1 0.1 0.1 0.1 0.1 0.1]\n",
      "[99850, 99042, 99510, 99586, 100124, 100062, 101108, 99998, 100816, 99934]\n",
      "END!\n"
     ]
    }
   ],
   "source": [
    "baseModel = SM_MFEA.model()\n",
    "baseModel.compile(\n",
    "    IndClass= IndClass,\n",
    "    tasks= tasks,\n",
    "    crossover = DaS_SBX_Crossover(nc= 2, eta= 0.001, conf_thres= 1),\n",
    "    # crossover = SBX_Crossover(nc = 2),\n",
    "    mutation = PolynomialMutation(nm = 5, pm= 1),\n",
    "    selection= ElitismSelection(random_percent= 0.1),\n",
    "    search= L_SHADE(len_mem= 15),\n",
    "    attr_tasks = ['crossover', 'mutation', 'search'],\n",
    ")\n",
    "solve = baseModel.fit(\n",
    "    nb_generations= 1000, nb_inds_each_task= 100, nb_inds_min= 20,\n",
    "    lr = 0.1, p_const_intra= 0., prob_search = 0., lc_nums = 200,\n",
    "    nb_epochs_stop= 1000, swap_po= False,\n",
    "    evaluate_initial_skillFactor= True\n",
    ")"
   ]
  }
 ],
 "metadata": {
  "kernelspec": {
   "display_name": "MFEA",
   "language": "python",
   "name": "python3"
  },
  "language_info": {
   "codemirror_mode": {
    "name": "ipython",
    "version": 3
   },
   "file_extension": ".py",
   "mimetype": "text/x-python",
   "name": "python",
   "nbconvert_exporter": "python",
   "pygments_lexer": "ipython3",
   "version": "3.9.16"
  },
  "orig_nbformat": 4
 },
 "nbformat": 4,
 "nbformat_minor": 2
}
