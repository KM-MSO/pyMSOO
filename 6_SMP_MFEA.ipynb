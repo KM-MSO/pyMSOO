{
 "cells": [
  {
   "cell_type": "code",
   "execution_count": 2,
   "metadata": {},
   "outputs": [],
   "source": [
    "from pyMSOO.MFEA.model import SM_MFEA\n",
    "from pyMSOO.utils.Crossover import *\n",
    "from pyMSOO.utils.Mutation import *\n",
    "from pyMSOO.utils.Selection import *\n",
    "from pyMSOO.utils.Search.DifferentialEvolution import *\n",
    "from pyMSOO.MFEA.benchmark.continous import *\n",
    "from pyMSOO.utils.MultiRun.RunMultiTime import * "
   ]
  },
  {
   "cell_type": "code",
   "execution_count": 3,
   "metadata": {},
   "outputs": [],
   "source": [
    "# tasks, IndClass = CEC17_benchmark.get_2tasks_benchmark(1)\n",
    "# tasks, IndClass = WCCI22_benchmark.get_complex_benchmark(1)\n",
    "tasks, IndClass = CEC17_benchmark.get_10tasks_benchmark()"
   ]
  },
  {
   "cell_type": "code",
   "execution_count": 6,
   "metadata": {},
   "outputs": [
    {
     "name": "stdout",
     "output_type": "stream",
     "text": [
      "Seed: None -- Time: 01m 21.58s  100 % [====================>]  Pop_size: 1.90E+02  ,  Cost: 1.31E-18  1.05E-16  0.00E+00  0.00E+00  1.34E+02  4.54E-10  0.00E+00  6.36E-04  0.00E+00  9.95E-01  ,  \n",
      "[0.1 0.1 0.1 0.1 0.1 0.1 0.1 0.1 0.1 0.1]\n",
      "[100226, 100790, 100016, 100162, 99966, 100152, 99188, 99884, 99652, 99994]\n",
      "END!\n"
     ]
    }
   ],
   "source": [
    "baseModel = SM_MFEA.model()\n",
    "baseModel.compile(\n",
    "    IndClass= IndClass,\n",
    "    tasks= tasks,\n",
    "    crossover = DaS_SBX_Crossover(nc= 2, eta= 0.001, conf_thres= 1),\n",
    "    # crossover = SBX_Crossover(nc = 2),\n",
    "    mutation = PolynomialMutation(nm = 5, pm= 1),\n",
    "    selection= ElitismSelection(random_percent= 0.1),\n",
    "    search= L_SHADE(len_mem= 15),\n",
    "    attr_tasks = ['crossover', 'mutation', 'search'],\n",
    ")\n",
    "solve = baseModel.fit(\n",
    "    nb_generations= 1000, nb_inds_each_task= 100, nb_inds_min= 20,\n",
    "    lr = 0.1, p_const_intra= 0., prob_search = 0., lc_nums = 200,\n",
    "    nb_epochs_stop= 1000, swap_po= False,\n",
    "    evaluate_initial_skillFactor= True\n",
    ")"
   ]
  },
  {
   "cell_type": "code",
   "execution_count": null,
   "metadata": {},
   "outputs": [],
   "source": []
  }
 ],
 "metadata": {
  "kernelspec": {
   "display_name": "MFEA",
   "language": "python",
   "name": "python3"
  },
  "language_info": {
   "codemirror_mode": {
    "name": "ipython",
    "version": 3
   },
   "file_extension": ".py",
   "mimetype": "text/x-python",
   "name": "python",
   "nbconvert_exporter": "python",
   "pygments_lexer": "ipython3",
   "version": "3.8.16"
  },
  "orig_nbformat": 4
 },
 "nbformat": 4,
 "nbformat_minor": 2
}
