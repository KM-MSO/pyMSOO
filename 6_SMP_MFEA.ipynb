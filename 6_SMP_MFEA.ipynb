{
 "cells": [
  {
   "cell_type": "code",
   "execution_count": 2,
   "metadata": {},
   "outputs": [],
   "source": [
    "from pyMSOO.MFEA.model import MFEA_base, SM_MFEA, LSA21\n",
    "from pyMSOO.MFEA.competitionModel import SM_MFEA_Competition\n",
    "from pyMSOO.utils.Crossover import *\n",
    "from pyMSOO.utils.Mutation import *\n",
    "from pyMSOO.utils.Selection import *\n",
    "from pyMSOO.utils.Search import * \n",
    "from pyMSOO.MFEA.benchmark.continous import *\n",
    "from pyMSOO.utils.MultiRun.RunMultiTime import * \n",
    "\n",
    "from pyMSOO.utils.EA import * \n",
    "from pyMSOO.MFEA.benchmark.continous.CEC17 import CEC17_benchmark \n",
    "from pyMSOO.MFEA.benchmark.continous.WCCI22 import WCCI22_benchmark\n",
    "from pyMSOO.MFEA.benchmark.continous.funcs import * \n",
    "from pyMSOO.utils.DimensionAwareStrategy import DaS_strategy, NoDaS\n",
    "from pyMSOO.utils.MultiRun.RunMultiTime import * \n",
    "from pyMSOO.utils.MultiRun.RunMultiBenchmark import * \n",
    "\n",
    "from pyMSOO.utils.LoadSaveModel.load_utils import loadModel, loadModelFromTxt\n",
    "from pyMSOO.utils.LoadSaveModel.save_utils import export_history2txt\n",
    "\n",
    "from pyMSOO.utils.numba_utils import *\n",
    "from pyMSOO.utils.Compare.compareModel import CompareModel\n",
    "\n",
    "import pandas as pd \n",
    "import numpy as np \n",
    "import os "
   ]
  },
  {
   "cell_type": "code",
   "execution_count": 2,
   "metadata": {},
   "outputs": [],
   "source": [
    "# tasks, IndClass = CEC17_benchmark.get_2tasks_benchmark(1)\n",
    "# tasks, IndClass = WCCI22_benchmark.get_complex_benchmark(1)\n",
    "tasks, IndClass = CEC17_benchmark.get_10tasks_benchmark()"
   ]
  },
  {
   "cell_type": "code",
   "execution_count": 3,
   "metadata": {},
   "outputs": [],
   "source": [
    "baseModel = SM_MFEA.model()\n",
    "baseModel.compile(\n",
    "    IndClass= IndClass,\n",
    "    tasks= tasks,\n",
    "    crossover = DaS_SBX_Crossover(nc= 2, eta= 0.001, conf_thres= 1),\n",
    "    # crossover = SBX_Crossover(nc = 2),\n",
    "    mutation = PolynomialMutation(nm = 5, pm= 1),\n",
    "    selection= ElitismSelection(random_percent= 0.1),\n",
    "    search= L_SHADE(len_mem= 15),\n",
    "    attr_tasks = ['crossover', 'mutation', 'search'],\n",
    ")\n",
    "solve = baseModel.fit(\n",
    "    nb_generations= 1000, nb_inds_each_task= 100, nb_inds_min= 20,\n",
    "    lr = 0.1, p_const_intra= 0., prob_search = 0., lc_nums = 200,\n",
    "    nb_epochs_stop= 1000, swap_po= False,\n",
    "    evaluate_initial_skillFactor= True\n",
    ")"
   ]
  },
  {
   "cell_type": "code",
   "execution_count": 4,
   "metadata": {},
   "outputs": [
    {
     "name": "stdout",
     "output_type": "stream",
     "text": [
      "Seed: 0 -- Time: 02m 13.90s  100 % [====================>]  Pop_size: 1.90E+02  ,  Cost: 1.74E-26  2.83E-26  0.00E+00  0.00E+00  1.59E-24  5.02E-14  0.00E+00  6.36E-04  0.00E+00  4.68E+01  ,  \n",
      "END!\n",
      "Seed: 1 -- Time: 02m 14.17s  100 % [====================>]  Pop_size: 1.90E+02  ,  Cost: 2.26E-26  2.75E-26  0.00E+00  0.00E+00  1.87E-24  5.02E-14  0.00E+00  6.36E-04  0.00E+00  4.58E+01  ,  \n",
      "END!\n",
      "Seed: 2 -- Time: 02m 13.31s  100 % [====================>]  Pop_size: 1.90E+02  ,  Cost: 1.58E-26  2.99E-26  0.00E+00  0.00E+00  1.44E-24  5.02E-14  0.00E+00  6.36E-04  0.00E+00  4.08E+01  ,  \n",
      "END!\n",
      "Seed: 3 -- Time: 02m 14.81s  100 % [====================>]  Pop_size: 1.90E+02  ,  Cost: 2.00E-26  2.67E-26  0.00E+00  0.00E+00  1.42E-24  5.02E-14  0.00E+00  6.36E-04  0.00E+00  5.17E+01  ,  \n",
      "END!\n",
      "Seed: 4 -- Time: 02m 17.81s  100 % [====================>]  Pop_size: 1.90E+02  ,  Cost: 1.96E-26  2.83E-26  0.00E+00  0.00E+00  1.61E-24  4.31E-14  0.00E+00  6.36E-04  0.00E+00  3.88E+01  ,  \n",
      "END!\n",
      "Seed: 5 -- Time: 02m 18.18s  100 % [====================>]  Pop_size: 1.90E+02  ,  Cost: 1.86E-26  2.67E-26  0.00E+00  0.00E+00  1.47E-24  4.66E-14  0.00E+00  6.36E-04  0.00E+00  3.08E+01  ,  \n",
      "END!\n",
      "Seed: 6 -- Time: 02m 17.06s  100 % [====================>]  Pop_size: 1.90E+02  ,  Cost: 2.02E-26  2.83E-26  0.00E+00  0.00E+00  1.50E-24  4.31E-14  0.00E+00  6.36E-04  1.11E-16  2.59E+01  ,  \n",
      "END!\n",
      "Seed: 7 -- Time: 02m 15.35s  100 % [====================>]  Pop_size: 1.90E+02  ,  Cost: 2.28E-26  2.83E-26  0.00E+00  0.00E+00  1.67E-24  4.66E-14  0.00E+00  6.36E-04  0.00E+00  4.58E+01  ,  \n",
      "END!\n",
      "Seed: 8 -- Time: 02m 15.41s  100 % [====================>]  Pop_size: 1.90E+02  ,  Cost: 2.44E-26  2.50E-26  0.00E+00  0.00E+00  1.65E-24  4.66E-14  0.00E+00  6.36E-04  7.40E-03  4.48E+01  ,  \n",
      "END!\n",
      "Seed: 9 -- Time: 02m 12.87s  100 % [====================>]  Pop_size: 1.90E+02  ,  Cost: 1.76E-26  2.58E-26  0.00E+00  0.00E+00  1.23E-24  5.02E-14  0.00E+00  6.36E-04  0.00E+00  4.38E+01  ,  \n",
      "END!\n",
      "Seed: 10 -- Time: 02m 8.29s  100 % [====================>]  Pop_size: 1.90E+02  ,  Cost: 1.96E-26  2.75E-26  0.00E+00  0.00E+00  1.52E-24  5.02E-14  0.00E+00  6.36E-04  0.00E+00  6.96E+01  ,  \n",
      "END!\n",
      "Seed: 11 -- Time: 02m 8.95s  100 % [====================>]  Pop_size: 1.90E+02  ,  Cost: 1.88E-26  2.91E-26  0.00E+00  0.00E+00  1.68E-24  5.02E-14  0.00E+00  6.36E-04  0.00E+00  3.38E+01  ,  \n",
      "END!\n",
      "Seed: 12 -- Time: 02m 12.64s  100 % [====================>]  Pop_size: 1.90E+02  ,  Cost: 1.94E-26  3.07E-26  0.00E+00  0.00E+00  1.44E-24  5.02E-14  0.00E+00  6.36E-04  0.00E+00  5.97E+01  ,  \n",
      "END!\n",
      "Seed: 13 -- Time: 02m 11.75s  100 % [====================>]  Pop_size: 1.90E+02  ,  Cost: 2.22E-26  3.15E-26  0.00E+00  0.00E+00  1.52E-24  5.02E-14  0.00E+00  6.36E-04  0.00E+00  7.36E+01  ,  \n",
      "END!\n",
      "Seed: 14 -- Time: 01m 39.64s   76 % [===============>    ]  Pop_size: 3.90E+02  ,  Cost: 7.00E-18  1.22E-17  1.07E-22  0.00E+00  1.56E-15  1.05E-09  8.53E-13  6.36E-04  0.00E+00  3.68E+01  ,  "
     ]
    },
    {
     "name": "stderr",
     "output_type": "stream",
     "text": [
      "/home/anhdt-minhdt/Code/docker/pyMSOO/pyMSOO/utils/MultiRun/RunMultiTime.py:87: VisibleDeprecationWarning: Creating an ndarray from ragged nested sequences (which is a list-or-tuple of lists-or-tuples-or ndarrays with different lengths or shapes) is deprecated. If you meant to do this, you must specify 'dtype=object' when creating the ndarray.\n",
      "  result = np.array(result[:][:min([len(his) for his in result])][:])\n"
     ]
    },
    {
     "name": "stdout",
     "output_type": "stream",
     "text": [
      "\n",
      "\n",
      "KeyboardInterrupt: Saved model, model is not Done\n"
     ]
    },
    {
     "name": "stderr",
     "output_type": "stream",
     "text": [
      "Traceback (most recent call last):\n",
      "  File \"/home/anhdt-minhdt/Code/docker/pyMSOO/pyMSOO/utils/MultiRun/RunMultiTime.py\", line 202, in run\n",
      "    model.fit(*self.args, **self.kwargs)\n",
      "  File \"/home/anhdt-minhdt/Code/docker/pyMSOO/pyMSOO/MFEA/model/SM_MFEA.py\", line 199, in fit\n",
      "    if np.all(pa.genes == pb.genes):\n",
      "  File \"<__array_function__ internals>\", line 180, in all\n",
      "  File \"/home/anhdt-minhdt/anaconda3/envs/pyMSOO/lib/python3.9/site-packages/numpy/core/fromnumeric.py\", line 2489, in all\n",
      "    return _wrapreduction(a, np.logical_and, 'all', axis, None, out,\n",
      "  File \"/home/anhdt-minhdt/anaconda3/envs/pyMSOO/lib/python3.9/site-packages/numpy/core/fromnumeric.py\", line 70, in _wrapreduction\n",
      "    passkwargs = {k: v for k, v in kwargs.items()\n",
      "KeyboardInterrupt\n"
     ]
    }
   ],
   "source": [
    "# ls_benchmark = []\n",
    "# ls_IndClass = []\n",
    "# ls_tasks = [2, 3, 4, 5, 6, 7, 8, 9, 10]\n",
    "# name_benchmark = [] \n",
    "\n",
    "# for i in ls_tasks:\n",
    "#     # t, ic = WCCI22_benchmark.get_complex_benchmark(i)\n",
    "#     t, ic = WCCI22_benchmark.get_50tasks_benchmark(i)\n",
    "#     ls_benchmark.append(t[:10])\n",
    "#     ls_IndClass.append(ic)\n",
    "#     name_benchmark.append(str(i))\n",
    "\n",
    "# cec17\n",
    "t, ic = CEC17_benchmark.get_10tasks_benchmark()\n",
    "path = './RESULTS/result/CEC17/SM_MFEA/'\n",
    "\n",
    "ls_benchmark = [t]\n",
    "ls_IndClass = [ic]\n",
    "name_benchmark = [\"cec17\"]\n",
    "\n",
    "\n",
    "smpModel = MultiBenchmark(\n",
    "    ls_benchmark= ls_benchmark,\n",
    "    name_benchmark= name_benchmark,\n",
    "    ls_IndClass= ls_IndClass,\n",
    "    model= SM_MFEA\n",
    ")\n",
    "\n",
    "smpModel.compile( \n",
    "        crossover= SBX_Crossover(nc = 2),\n",
    "        mutation= PolynomialMutation(nm = 5, pm=1),\n",
    "        dimension_strategy= DaS_strategy(),\n",
    "        # dimension_strategy= NoDaS(),\n",
    "        search = DifferentialEvolution.L_SHADE(p_ontop= 0.11, len_mem= 30),\n",
    "        selection = ElitismSelection(random_percent= 0.1)\n",
    ")\n",
    "smpModel.fit(\n",
    "        nb_generations= 1000, nb_inds_each_task= 100, nb_inds_min= 20,\n",
    "        lr = 0.1 ,mu= 0.1,\n",
    "        evaluate_initial_skillFactor= True  \n",
    ")\n",
    "a = smpModel.run(\n",
    "    nb_run=15,     \n",
    "    save_path= './RESULTS/check/'\n",
    ")"
   ]
  },
  {
   "cell_type": "code",
   "execution_count": 12,
   "metadata": {},
   "outputs": [
    {
     "data": {
      "text/plain": [
       "array([2091.48206157,  735.9514915 ,  336.582458  ,  564.95256945,\n",
       "        908.10868506, 1084.22144928,  667.73439907, 1442.081112  ,\n",
       "        597.56944777, 1071.37728011])"
      ]
     },
     "execution_count": 12,
     "metadata": {},
     "output_type": "execute_result"
    }
   ],
   "source": [
    "model = loadModel(\"./RESULTS/check/2.mso\", ls_tasks= WCCI22_benchmark.get_50tasks_benchmark(2)[0])\n",
    "model.history_cost[-1]"
   ]
  },
  {
   "cell_type": "code",
   "execution_count": null,
   "metadata": {},
   "outputs": [],
   "source": []
  },
  {
   "cell_type": "code",
   "execution_count": null,
   "metadata": {},
   "outputs": [],
   "source": [
    "model."
   ]
  }
 ],
 "metadata": {
  "kernelspec": {
   "display_name": "MFEA",
   "language": "python",
   "name": "python3"
  },
  "language_info": {
   "codemirror_mode": {
    "name": "ipython",
    "version": 3
   },
   "file_extension": ".py",
   "mimetype": "text/x-python",
   "name": "python",
   "nbconvert_exporter": "python",
   "pygments_lexer": "ipython3",
   "version": "3.9.16"
  },
  "orig_nbformat": 4
 },
 "nbformat": 4,
 "nbformat_minor": 2
}
