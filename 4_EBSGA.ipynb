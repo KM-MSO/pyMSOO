{
 "cells": [
  {
   "cell_type": "code",
   "execution_count": 9,
   "metadata": {},
   "outputs": [],
   "source": [
    "from pyMSOO.MFEA.model import MaTGA\n",
    "from pyMSOO.utils.Crossover import *\n",
    "from pyMSOO.utils.Mutation import *\n",
    "from pyMSOO.utils.Selection import *\n",
    "from pyMSOO.utils.DimensionAwareStrategy import *\n",
    "from pyMSOO.MFEA.benchmark.continous import *\n",
    "from pyMSOO.utils.MultiRun.RunMultiTime import * "
   ]
  },
  {
   "cell_type": "code",
   "execution_count": 11,
   "metadata": {},
   "outputs": [],
   "source": [
    "# tasks, IndClass = CEC17_benchmark.get_2tasks_benchmark(1)\n",
    "# tasks, IndClass = WCCI22_benchmark.get_complex_benchmark(10)\n",
    "tasks, IndClass = CEC17_benchmark.get_10tasks_benchmark()\n",
    "# tasks, IndClass = WCCI22_benchmark.get_50tasks_benchmark(10)"
   ]
  },
  {
   "cell_type": "code",
   "execution_count": 13,
   "metadata": {},
   "outputs": [
    {
     "name": "stdout",
     "output_type": "stream",
     "text": [
      "Seed: None -- Time: 01m 52.21s  100 % [====================>]  Cost: 8.82E+03  6.35E-07  4.06E+03  6.48E+00  1.89E+07  2.28E-04  3.09E+01  6.61E+01  2.19E+00  1.85E+03  ,  \n",
      "END!\n"
     ]
    }
   ],
   "source": [
    "from pyMSOO.MFEA.model import EBSGA\n",
    "\n",
    "baseModel = EBSGA.model()\n",
    "baseModel.compile(\n",
    "    IndClass= IndClass,\n",
    "    tasks= tasks,\n",
    "    # crossover = KL_SBXCrossover(nc= 2, k= 100, conf_thres= 1),\n",
    "    crossover= SBX_Crossover(nc = 2),\n",
    "    # crossover= DaS_SBX_Crossover(),\n",
    "    mutation= PolynomialMutation(nm = 5),\n",
    "    selection= ElitismSelection(),\n",
    "    dimension_strategy=DaS_strategy()\n",
    ")\n",
    "solve = baseModel.fit(\n",
    "    nb_generations = 1000, rmp = 0.5, nb_inds_each_task= 100, \n",
    "    bound_pop= [0, 1], evaluate_initial_skillFactor= True\n",
    ")"
   ]
  },
  {
   "cell_type": "code",
   "execution_count": 13,
   "metadata": {},
   "outputs": [
    {
     "name": "stdout",
     "output_type": "stream",
     "text": [
      "[  400.61088373  8600.44584968 34100.19061824  2800.98891715\n",
      " 50700.28690991 51700.47682907  9200.02933727 25800.62270897\n",
      "  5500.25796834  5300.86942351]\n"
     ]
    }
   ],
   "source": [
    "print(baseModel.E_o)"
   ]
  },
  {
   "cell_type": "code",
   "execution_count": 14,
   "metadata": {},
   "outputs": [
    {
     "name": "stdout",
     "output_type": "stream",
     "text": [
      "[99600.30166858 91400.67259289 65900.61639903 97200.42926958\n",
      " 49300.31473667 48300.57184309 90800.85700004 74200.51303286\n",
      " 94500.86276064 94700.38377208]\n"
     ]
    }
   ],
   "source": [
    "print(baseModel.E_s)"
   ]
  },
  {
   "cell_type": "code",
   "execution_count": 15,
   "metadata": {},
   "outputs": [
    {
     "name": "stdout",
     "output_type": "stream",
     "text": [
      "[7.63748708e-04 2.76160980e+00 1.22892904e+02 4.87282264e-01\n",
      " 1.47961228e+02 1.61597834e+02 3.38629898e+00 2.44903782e+01\n",
      " 7.83520225e-01 6.71900903e-01]\n"
     ]
    }
   ],
   "source": [
    "print(baseModel.R_o)"
   ]
  },
  {
   "cell_type": "code",
   "execution_count": 16,
   "metadata": {},
   "outputs": [
    {
     "name": "stdout",
     "output_type": "stream",
     "text": [
      "[398.01677263 358.12751851 343.43680909 586.76149418 174.84695876\n",
      " 198.02340429 389.61030147 315.44693615 456.33065522 283.48025755]\n"
     ]
    }
   ],
   "source": [
    "print(baseModel.R_s)"
   ]
  },
  {
   "cell_type": "code",
   "execution_count": null,
   "metadata": {},
   "outputs": [],
   "source": []
  }
 ],
 "metadata": {
  "kernelspec": {
   "display_name": "MFEA",
   "language": "python",
   "name": "python3"
  },
  "language_info": {
   "codemirror_mode": {
    "name": "ipython",
    "version": 3
   },
   "file_extension": ".py",
   "mimetype": "text/x-python",
   "name": "python",
   "nbconvert_exporter": "python",
   "pygments_lexer": "ipython3",
   "version": "3.8.16"
  },
  "orig_nbformat": 4
 },
 "nbformat": 4,
 "nbformat_minor": 2
}
