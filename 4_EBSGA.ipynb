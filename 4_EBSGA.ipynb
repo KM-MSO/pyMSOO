{
 "cells": [
  {
   "cell_type": "code",
   "execution_count": 1,
   "metadata": {},
   "outputs": [],
   "source": [
    "from pyMSOO.MFEA.model import MaTGA\n",
    "from pyMSOO.utils.Crossover import *\n",
    "from pyMSOO.utils.Mutation import *\n",
    "from pyMSOO.utils.Selection import *\n",
    "from pyMSOO.MFEA.benchmark.continous import *\n",
    "from pyMSOO.utils.MultiRun.RunMultiTime import * "
   ]
  },
  {
   "cell_type": "code",
   "execution_count": 38,
   "metadata": {},
   "outputs": [],
   "source": [
    "import numpy as np\n",
    "import random\n",
    "from functools import reduce\n",
    "import time\n",
    "\n",
    "from pyMSOO.MFEA.model import AbstractModel\n",
    "from pyMSOO.utils import Crossover, Mutation, Selection\n",
    "from pyMSOO.utils.EA import *\n",
    "from pyMSOO.utils.numba_utils import numba_randomchoice\n",
    "\n",
    "class model(AbstractModel.model):\n",
    "    def compile(self, \n",
    "        IndClass: Type[Individual],\n",
    "        tasks: List[AbstractTask], \n",
    "        crossover: Crossover.SBX_Crossover, mutation: Mutation.PolynomialMutation, selection: Selection.ElitismSelection, \n",
    "        *args, **kwargs):\n",
    "        super().compile(IndClass, tasks, crossover, mutation, selection, *args, **kwargs)\n",
    "    \n",
    "    def fit(self, nb_generations, rmp = 0.3, nb_inds_each_task = 100, evaluate_initial_skillFactor = True, *args, **kwargs) -> List[Individual]:\n",
    "        super().fit(*args, **kwargs)\n",
    "\n",
    "        # initialize population\n",
    "        population = Population(\n",
    "            self.IndClass,\n",
    "            nb_inds_tasks = [nb_inds_each_task] * len(self.tasks), \n",
    "            dim = self.dim_uss,\n",
    "            list_tasks= self.tasks,\n",
    "            evaluate_initial_skillFactor = evaluate_initial_skillFactor\n",
    "        )\n",
    "\n",
    "        self.R_o = np.zeros((len(self.tasks))) \n",
    "        self.R_s = np.zeros((len(self.tasks)))\n",
    "        self.E_o = np.zeros((len(self.tasks)))\n",
    "        self.E_s = np.zeros((len(self.tasks)))\n",
    "\n",
    "        # save history\n",
    "        self.history_cost.append([ind.fcost for ind in population.get_solves()])\n",
    "        \n",
    "        self.render_process(0, ['Cost'], [self.history_cost[-1]], use_sys= True)\n",
    "\n",
    "        for epoch in range(nb_generations):\n",
    "            offsprings = Population(\n",
    "                self.IndClass,\n",
    "                nb_inds_tasks = [0] * len(self.tasks), \n",
    "                dim = self.dim_uss,\n",
    "                list_tasks= self.tasks,\n",
    "            )\n",
    "\n",
    "            lambda_i = (self.R_o/(self.E_o + 1e-6))/(self.R_s/(self.E_s + 1e-6) + self.R_o/(self.E_o + 1e-6) + 1e-6)\n",
    "            idx_other = np.where(np.random.rand(len(self.tasks)) < lambda_i)[0]\n",
    "            idx_same = list(set(range(len(self.tasks))) - set(idx_other))\n",
    "\n",
    "            self.E_o[idx_other] += nb_inds_each_task\n",
    "            self.E_s[idx_same] += nb_inds_each_task\n",
    "            \n",
    "            # start = time.time()\n",
    "\n",
    "            for i in idx_other:\n",
    "                # self.E_o[i] += nb_inds_each_task\n",
    "                offs = population.__getRandomInds__(nb_inds_each_task)\n",
    "                res = np.fromiter(map(self.tasks[i].__call__, offs), float)\n",
    "                self.R_o[i] += sum(res < population[i].__getBestIndividual__.fcost)\n",
    "                for o in offs:\n",
    "                    offsprings.__addIndividual__(o)\n",
    "            \n",
    "            # end = time.time()\n",
    "            # print(\"A: \", end - start)\n",
    "\n",
    "            # start = time.time()\n",
    "            # print(len(idx_other))\n",
    "            for i in idx_same:\n",
    "                # current_best = population[i].__getBestIndividual__.fcost\n",
    "                # self.E_s[i] += nb_inds_each_task\n",
    "                offs = []\n",
    "                \n",
    "                while len(offs) < nb_inds_each_task:\n",
    "                    # choose parent \n",
    "                    pa, pb = population[i].__getRandomItems__(2)\n",
    "                    # intra / inter crossover\n",
    "                    oa, ob = self.crossover(pa, pb, i, i)\n",
    "                    # mutate\n",
    "                    oa = self.mutation(oa, return_newInd= True)\n",
    "                    oa.skill_factor = pa.skill_factor\n",
    "\n",
    "                    ob = self.mutation(ob, return_newInd= True)    \n",
    "                    ob.skill_factor = pb.skill_factor\n",
    "                    \n",
    "                    offsprings.__addIndividual__(oa)\n",
    "                    offsprings.__addIndividual__(ob)\n",
    "\n",
    "                    # self.R_s[i] += self.tasks[i](oa) > current_best\n",
    "                    # self.R_s[i] += self.tasks[i](ob) > current_best\n",
    "\n",
    "                    offs.append(oa)\n",
    "                    offs.append(ob)\n",
    "\n",
    "                res = np.fromiter(map(self.tasks[i].__call__, offs), float)\n",
    "                self.R_s[i] += sum(res < population[i].__getBestIndividual__.fcost)      \n",
    "            \n",
    "            # end = time.time()\n",
    "            # print(\"B: \", end - start)\n",
    "\n",
    "            # merge and update rank\n",
    "            population = population + offsprings\n",
    "            population.update_rank()\n",
    "\n",
    "            # selection\n",
    "            self.selection(population, [nb_inds_each_task] * len(self.tasks))\n",
    "\n",
    "            # update operators\n",
    "            self.crossover.update(population = population)\n",
    "            self.mutation.update(population = population)\n",
    "\n",
    "            # save history\n",
    "            self.history_cost.append([ind.fcost for ind in population.get_solves()])\n",
    "\n",
    "            #print\n",
    "            self.render_process((epoch+1)/nb_generations, ['Cost'], [self.history_cost[-1]], use_sys= True)\n",
    "        \n",
    "        print('\\nEND!')\n",
    "\n",
    "        #solve \n",
    "        self.last_pop = population\n",
    "        return self.last_pop.get_solves() \n"
   ]
  },
  {
   "cell_type": "code",
   "execution_count": 39,
   "metadata": {},
   "outputs": [],
   "source": [
    "# tasks, IndClass = CEC17_benchmark.get_2tasks_benchmark(1)\n",
    "# tasks, IndClass = WCCI22_benchmark.get_complex_benchmark(10)\n",
    "tasks, IndClass = CEC17_benchmark.get_10tasks_benchmark()\n",
    "# tasks, IndClass = WCCI22_benchmark.get_50tasks_benchmark(10)"
   ]
  },
  {
   "cell_type": "code",
   "execution_count": 40,
   "metadata": {},
   "outputs": [
    {
     "name": "stdout",
     "output_type": "stream",
     "text": [
      "Seed: None -- Time: 01m 44.52s  100 % [====================>]  Cost: 3.32E-06  7.84E-07  9.16E-07  0.00E+00  1.27E+02  2.00E+01  1.72E-03  2.25E+03  1.74E-08  2.00E+01  ,  \n",
      "END!\n"
     ]
    }
   ],
   "source": [
    "baseModel = model()\n",
    "baseModel.compile(\n",
    "    IndClass= IndClass,\n",
    "    tasks= tasks,\n",
    "    # crossover = KL_SBXCrossover(nc= 2, k= 100, conf_thres= 1),\n",
    "    crossover= SBX_Crossover(nc = 2),\n",
    "    mutation= PolynomialMutation(nm = 5),\n",
    "    selection= ElitismSelection()\n",
    ")\n",
    "solve = baseModel.fit(\n",
    "    nb_generations = 1000, rmp = 0.5, nb_inds_each_task= 100, \n",
    "    bound_pop= [0, 1], evaluate_initial_skillFactor= True\n",
    ")"
   ]
  },
  {
   "cell_type": "code",
   "execution_count": 24,
   "metadata": {},
   "outputs": [
    {
     "name": "stdout",
     "output_type": "stream",
     "text": [
      "[  1500.   2000.    800.  59900. 100000.  68200. 100000.  47300.   1200.\n",
      "   1500.]\n"
     ]
    }
   ],
   "source": [
    "print(baseModel.E_o)"
   ]
  },
  {
   "cell_type": "code",
   "execution_count": 25,
   "metadata": {},
   "outputs": [
    {
     "name": "stdout",
     "output_type": "stream",
     "text": [
      "[98500. 98000. 99200. 40100.     0. 31800.     0. 52700. 98800. 98500.]\n"
     ]
    }
   ],
   "source": [
    "print(baseModel.E_s)"
   ]
  },
  {
   "cell_type": "code",
   "execution_count": 26,
   "metadata": {},
   "outputs": [
    {
     "name": "stdout",
     "output_type": "stream",
     "text": [
      "[1.000000e-02 1.000000e-02 1.000000e-02 1.179201e+04 9.784010e+03\n",
      " 2.509101e+04 3.884301e+04 4.658010e+03 1.000000e-02 1.000000e-02]\n"
     ]
    }
   ],
   "source": [
    "print(baseModel.R_o)"
   ]
  },
  {
   "cell_type": "code",
   "execution_count": 27,
   "metadata": {},
   "outputs": [
    {
     "name": "stdout",
     "output_type": "stream",
     "text": [
      "[ 922.  933. 1013.  709.    0.  415.    0.  459.  964.  727.]\n"
     ]
    }
   ],
   "source": [
    "print(baseModel.R_s)"
   ]
  }
 ],
 "metadata": {
  "kernelspec": {
   "display_name": "MFEA",
   "language": "python",
   "name": "python3"
  },
  "language_info": {
   "codemirror_mode": {
    "name": "ipython",
    "version": 3
   },
   "file_extension": ".py",
   "mimetype": "text/x-python",
   "name": "python",
   "nbconvert_exporter": "python",
   "pygments_lexer": "ipython3",
   "version": "3.8.16"
  },
  "orig_nbformat": 4
 },
 "nbformat": 4,
 "nbformat_minor": 2
}
