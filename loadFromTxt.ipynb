{
 "cells": [
  {
   "attachments": {},
   "cell_type": "markdown",
   "metadata": {},
   "source": [
    "# Import"
   ]
  },
  {
   "cell_type": "code",
   "execution_count": 2,
   "metadata": {},
   "outputs": [],
   "source": [
    "import os \n",
    "import sys \n",
    "import numpy as np \n",
    "import pandas as pd\n",
    "import scipy \n",
    "import inspect \n",
    "import pickle \n",
    "\n",
    "from pyMSOO.MFEA.model import MFEA_base, SM_MFEA, LSA21\n",
    "from pyMSOO.MFEA.competitionModel import SM_MFEA_Competition \n",
    "from pyMSOO.utils.Crossover import *\n",
    "from pyMSOO.utils.Mutation import *\n",
    "from pyMSOO.utils.Selection import *\n",
    "from pyMSOO.utils.Search import * \n",
    "from pyMSOO.MFEA.benchmark.continous import *\n",
    "from pyMSOO.utils.MultiRun.RunMultiTime import * \n",
    "\n",
    "from pyMSOO.utils.EA import * \n",
    "from pyMSOO.MFEA.benchmark.continous.CEC17 import CEC17_benchmark \n",
    "from pyMSOO.MFEA.benchmark.continous.WCCI22 import WCCI22_benchmark\n",
    "from pyMSOO.MFEA.benchmark.continous.GECCO20 import GECCO20_benchmark_50tasks\n",
    "from pyMSOO.MFEA.benchmark.continous.utils import Individual_func \n",
    "from pyMSOO.MFEA.benchmark.continous.funcs import * \n",
    "\n",
    "from pyMSOO.utils.EA import Population\n",
    "\n",
    "from pyMSOO.utils.MultiRun.RunMultiTime import * \n",
    "from pyMSOO.utils.MultiRun.RunMultiBenchmark import * \n",
    "\n",
    "from pyMSOO.utils.LoadSaveModel.LoadModel import loadModel, loadModelFromTxt\n",
    "from pyMSOO.utils.LoadSaveModel.saveModel import saveModel \n",
    "\n",
    "from pyMSOO.utils.numba_utils import *"
   ]
  },
  {
   "attachments": {},
   "cell_type": "markdown",
   "metadata": {},
   "source": [
    "# Load Model"
   ]
  },
  {
   "attachments": {},
   "cell_type": "markdown",
   "metadata": {},
   "source": [
    "## Load from txt"
   ]
  },
  {
   "cell_type": "code",
   "execution_count": 11,
   "metadata": {},
   "outputs": [],
   "source": [
    "for id in range(1, 11):\n",
    "    model_txt = loadModelFromTxt(\n",
    "        source_path=f\"results_txt/MTOMSO_P{id}.txt\",\n",
    "        model= AbstractModel,\n",
    "        history_cost_shape= (1000, 1501), \n",
    "        nb_runs= 30,\n",
    "        ls_tasks= WCCI22_benchmark.get_50tasks_benchmark(2)[0]\n",
    "    )\n",
    "    saveModel(model_txt, f\"RESULTS/Many/OLD_LSA21/{id}.mso\")"
   ]
  },
  {
   "attachments": {},
   "cell_type": "markdown",
   "metadata": {},
   "source": [
    "# Export to CSV "
   ]
  },
  {
   "cell_type": "code",
   "execution_count": 12,
   "metadata": {},
   "outputs": [
    {
     "name": "stdout",
     "output_type": "stream",
     "text": [
      "SMP_v2\n",
      "Error when create object rmp_lsa21. Using Temp class instead\n",
      "Error while create instance model for <class 'pyMSOO.utils.EA.Population'>. Using Temp class instead\n",
      "Error while create instance model for <class 'pyMSOO.utils.EA.SubPopulation'>. Using Temp class instead\n",
      "Error when create object DictType. Using Temp class instead\n",
      "Error when create object UnicodeType. Using Temp class instead\n",
      "Error when create object Float. Using Temp class instead\n",
      "Error when create object Tuple. Using Temp class instead\n",
      "Error when create object UnionType. Using Temp class instead\n",
      "500\n",
      "OLD_LSA21\n",
      "500\n"
     ]
    }
   ],
   "source": [
    "path = \"RESULTS/Many\"\n",
    "history_cost_summaries = []\n",
    "for model_lib in os.listdir(path): \n",
    "    print(model_lib);\n",
    "    tmp = []\n",
    "    for id in os.listdir(os.path.join(path, model_lib)):\n",
    "        model = loadModel(os.path.join(os.path.join(path, model_lib), id), ls_tasks= WCCI22_benchmark.get_50tasks_benchmark(1)[0])\n",
    "        # a = np.clip(model.history_cost[-1], 1e-6, 1e19) \n",
    "        a = np.where(model.history_cost[-1] < 1e-6, 0, model.history_cost[-1])\n",
    "        tmp += a.tolist() \n",
    "    print(len(tmp))\n",
    "    history_cost_summaries.append(tmp.copy()) \n",
    "history_cost_summaries = np.array(history_cost_summaries)\n",
    "ls_col_name = os.listdir(path)"
   ]
  },
  {
   "cell_type": "code",
   "execution_count": 13,
   "metadata": {},
   "outputs": [],
   "source": [
    "df = pd.DataFrame(history_cost_summaries.T,columns= ls_col_name)\n",
    "pd.DataFrame.to_csv(df, \"history_cost_summaries.csv\")"
   ]
  },
  {
   "cell_type": "code",
   "execution_count": 15,
   "metadata": {},
   "outputs": [],
   "source": [
    "model = loadModel(\"RESULTS/Many/SMP_v2/1.mso\", WCCI22_benchmark.get_50tasks_benchmark(3)[0])"
   ]
  },
  {
   "cell_type": "code",
   "execution_count": 16,
   "metadata": {},
   "outputs": [
    {
     "data": {
      "text/plain": [
       "array([1.17867284e-03, 2.93876681e-03, 1.93735497e-02, 4.93379976e-03,\n",
       "       2.50223078e-02, 5.32310652e-03, 2.45609151e+00, 1.30583345e+00,\n",
       "       6.55879874e-03, 2.95727638e-02, 1.29496707e+00, 5.81303221e-03,\n",
       "       8.51210775e-04, 2.69753572e-04, 1.07634226e-03, 2.21411488e+00,\n",
       "       1.70493459e+01, 1.16053711e+00, 1.43430428e-01, 1.85862087e+00,\n",
       "       1.35889400e-04, 2.92458934e-03, 4.44262322e+00, 1.41809068e-04,\n",
       "       4.61483566e+00, 6.81855226e-02, 1.20940822e-04, 1.85729575e-04,\n",
       "       1.99564470e+00, 3.94908192e-04, 9.62162787e-01, 5.12725627e-03,\n",
       "       7.75772298e-02, 4.52406280e-03, 6.65648360e-03, 2.05883404e-02,\n",
       "       6.16392341e-01, 3.17731275e-04, 2.47419312e-02, 1.51746655e+00,\n",
       "       3.79286723e+00, 5.29177073e-02, 1.12613318e+01, 2.64026001e-02,\n",
       "       1.95375300e+00, 1.28926206e-01, 7.58486213e-05, 5.03274363e-03,\n",
       "       5.46635411e-03, 5.17102905e-02])"
      ]
     },
     "execution_count": 16,
     "metadata": {},
     "output_type": "execute_result"
    }
   ],
   "source": [
    "model.history_cost[-1]"
   ]
  },
  {
   "cell_type": "code",
   "execution_count": null,
   "metadata": {},
   "outputs": [],
   "source": []
  }
 ],
 "metadata": {
  "kernelspec": {
   "display_name": "pyMSOO",
   "language": "python",
   "name": "python3"
  },
  "language_info": {
   "codemirror_mode": {
    "name": "ipython",
    "version": 3
   },
   "file_extension": ".py",
   "mimetype": "text/x-python",
   "name": "python",
   "nbconvert_exporter": "python",
   "pygments_lexer": "ipython3",
   "version": "3.9.16"
  },
  "orig_nbformat": 4
 },
 "nbformat": 4,
 "nbformat_minor": 2
}
