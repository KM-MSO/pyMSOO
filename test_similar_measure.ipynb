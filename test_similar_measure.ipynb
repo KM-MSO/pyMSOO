{
 "cells": [
  {
   "attachments": {},
   "cell_type": "markdown",
   "metadata": {},
   "source": [
    "# Import"
   ]
  },
  {
   "cell_type": "code",
   "execution_count": 42,
   "metadata": {},
   "outputs": [],
   "source": [
    "import os \n",
    "import sys \n",
    "import numpy as np \n",
    "import pandas as pd\n",
    "import scipy \n",
    "import inspect \n",
    "import pickle \n",
    "\n",
    "from pyMSOO.MFEA.model import MFEA_base, SM_MFEA, LSA21\n",
    "from pyMSOO.MFEA.competitionModel import SM_MFEA_Competition \n",
    "from pyMSOO.utils.Crossover import *\n",
    "from pyMSOO.utils.Mutation import *\n",
    "from pyMSOO.utils.Selection import *\n",
    "from pyMSOO.utils.Search import * \n",
    "from pyMSOO.MFEA.benchmark.continous import *\n",
    "from pyMSOO.utils.MultiRun.RunMultiTime import * \n",
    "\n",
    "from pyMSOO.utils.EA import * \n",
    "from pyMSOO.MFEA.benchmark.continous.CEC17 import CEC17_benchmark \n",
    "from pyMSOO.MFEA.benchmark.continous.WCCI22 import WCCI22_benchmark\n",
    "from pyMSOO.MFEA.benchmark.continous.GECCO20 import GECCO20_benchmark_50tasks\n",
    "from pyMSOO.MFEA.benchmark.continous.utils import Individual_func \n",
    "from pyMSOO.MFEA.benchmark.continous.funcs import * \n",
    "\n",
    "from pyMSOO.utils.EA import Population\n",
    "\n",
    "from pyMSOO.utils.MultiRun.RunMultiTime import * \n",
    "from pyMSOO.utils.MultiRun.RunMultiBenchmark import * \n",
    "\n",
    "from pyMSOO.utils.LoadSaveModel.LoadModel import loadModel\n",
    "\n",
    "from pyMSOO.utils.numba_utils import *"
   ]
  },
  {
   "attachments": {},
   "cell_type": "markdown",
   "metadata": {},
   "source": [
    "# Define Function"
   ]
  },
  {
   "cell_type": "code",
   "execution_count": 132,
   "metadata": {},
   "outputs": [],
   "source": [
    "tasks, IndClass = CEC17_benchmark.get_10tasks_benchmark()"
   ]
  },
  {
   "cell_type": "code",
   "execution_count": 133,
   "metadata": {},
   "outputs": [],
   "source": [
    "uss_population = np.random.rand(1000000, 50)"
   ]
  },
  {
   "cell_type": "code",
   "execution_count": 155,
   "metadata": {},
   "outputs": [],
   "source": [
    "for task1 in range()\n",
    "task1, task2 = 1,6\n",
    "task1 -= 1\n",
    "task2 -= 1\n",
    "\n",
    "if True:\n",
    "    cost_task1 = [] \n",
    "    for i in uss_population: \n",
    "        cost_task1.append(tasks[task1](i))\n",
    "    cost_task1 = np.array(cost_task1)\n",
    "\n",
    "if True:\n",
    "    cost_task2 = [] \n",
    "    for i in uss_population: \n",
    "        cost_task2.append(tasks[task2](i))\n",
    "    cost_task2 = np.array(cost_task2)\n",
    "fac_rank1 = np.argsort(np.argsort(cost_task1))\n",
    "fac_rank2 = np.argsort(np.argsort(cost_task2))\n",
    "cov = np.cov(np.stack((fac_rank1, fac_rank2), axis= 0))[0][1]\n",
    "std1 = np.std(fac_rank1)\n",
    "std2 = np.std(fac_rank2)\n",
    "R_s = cov / (std1 * std2)"
   ]
  },
  {
   "cell_type": "code",
   "execution_count": 156,
   "metadata": {},
   "outputs": [],
   "source": [
    "fac_rank1 = np.argsort(np.argsort(cost_task1))\n",
    "fac_rank2 = np.argsort(np.argsort(cost_task2))"
   ]
  },
  {
   "cell_type": "code",
   "execution_count": 157,
   "metadata": {},
   "outputs": [
    {
     "data": {
      "text/plain": [
       "1000000"
      ]
     },
     "execution_count": 157,
     "metadata": {},
     "output_type": "execute_result"
    }
   ],
   "source": [
    "len(fac_rank1)"
   ]
  },
  {
   "cell_type": "code",
   "execution_count": 158,
   "metadata": {},
   "outputs": [],
   "source": [
    "cov = np.cov(np.stack((fac_rank1, fac_rank2), axis= 0))[0][1]\n",
    "std1 = np.std(fac_rank1)\n",
    "std2 = np.std(fac_rank2)"
   ]
  },
  {
   "cell_type": "code",
   "execution_count": 159,
   "metadata": {},
   "outputs": [
    {
     "data": {
      "text/plain": [
       "288675.1345946685"
      ]
     },
     "execution_count": 159,
     "metadata": {},
     "output_type": "execute_result"
    }
   ],
   "source": [
    "std2 "
   ]
  },
  {
   "cell_type": "code",
   "execution_count": 160,
   "metadata": {},
   "outputs": [],
   "source": [
    "R_s = cov / (std1 * std2)"
   ]
  },
  {
   "cell_type": "code",
   "execution_count": 161,
   "metadata": {},
   "outputs": [
    {
     "name": "stdout",
     "output_type": "stream",
     "text": [
      "0.003981133355043212\n"
     ]
    }
   ],
   "source": [
    "print(R_s)"
   ]
  },
  {
   "cell_type": "code",
   "execution_count": null,
   "metadata": {},
   "outputs": [],
   "source": []
  }
 ],
 "metadata": {
  "kernelspec": {
   "display_name": "pyMSOO",
   "language": "python",
   "name": "python3"
  },
  "language_info": {
   "codemirror_mode": {
    "name": "ipython",
    "version": 3
   },
   "file_extension": ".py",
   "mimetype": "text/x-python",
   "name": "python",
   "nbconvert_exporter": "python",
   "pygments_lexer": "ipython3",
   "version": "3.9.16"
  },
  "orig_nbformat": 4
 },
 "nbformat": 4,
 "nbformat_minor": 2
}
