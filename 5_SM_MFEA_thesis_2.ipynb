{
 "cells": [
  {
   "attachments": {},
   "cell_type": "markdown",
   "metadata": {},
   "source": [
    "# Import"
   ]
  },
  {
   "cell_type": "code",
   "execution_count": 1,
   "metadata": {},
   "outputs": [],
   "source": [
    "import numpy as np\n",
    "import pandas as pd\n",
    "\n",
    "from pyMSOO.MFEA.model import SM_MFEA\n",
    "from pyMSOO.utils.Crossover import *\n",
    "from pyMSOO.utils.Mutation import *\n",
    "from pyMSOO.utils.Selection import *\n",
    "from pyMSOO.utils.DimensionAwareStrategy import DaS_strategy\n",
    "\n",
    "from pyMSOO.utils.EA import * \n",
    "\n",
    "from pyMSOO.utils.MultiRun.RunMultiTime import * \n",
    "from pyMSOO.utils.MultiRun.RunMultiBenchmark import * \n",
    "from pyMSOO.MFEA.benchmark.continous.utils import Individual_func\n",
    "from pyMSOO.utils.LoadSaveModel.load_utils import loadModel"
   ]
  },
  {
   "attachments": {},
   "cell_type": "markdown",
   "metadata": {},
   "source": [
    "# Run"
   ]
  },
  {
   "cell_type": "code",
   "execution_count": 2,
   "metadata": {},
   "outputs": [],
   "source": [
    "from thesis_2 import func, get_data, get_tasks"
   ]
  },
  {
   "attachments": {},
   "cell_type": "markdown",
   "metadata": {},
   "source": [
    "1 time"
   ]
  },
  {
   "cell_type": "code",
   "execution_count": 3,
   "metadata": {},
   "outputs": [],
   "source": [
    "def get_best_val(LP_idx, DaS):\n",
    "    tasks, _ = get_tasks(LP_idx, 10)\n",
    "    models = loadModel(f'./THESIS_RESULTS/LP{LP_idx}_{DaS}.mso', ls_tasks= tasks, set_attribute= True)\n",
    "    \n",
    "    solves = [model.last_pop.get_solves()[0].genes for model in models.ls_model]\n",
    "    is_valid = [tasks[0].check_valid(model.last_pop.get_solves()[0].genes)[0] for model in models.ls_model] \n",
    "    results = [tasks[0](model.last_pop.get_solves()[0].genes) for model in models.ls_model]\n",
    "    return solves, is_valid, results\n",
    "    # return np.min(results), np.average(results), np.max(results), results, solves"
   ]
  },
  {
   "cell_type": "code",
   "execution_count": 5,
   "metadata": {},
   "outputs": [
    {
     "name": "stdout",
     "output_type": "stream",
     "text": [
      "(25,) (35,) (35,) (35, 25)\n",
      "1, 0: [True, False, True], [18.49190219702325, 13.725070439098635, 21.660409559125355]\n",
      "\n",
      "(100,) (1032,) (1032,) (1032, 100)\n",
      "2, 0: [False, True, True], [50.19812786500764, 51.340089473676656, 47.39669501001949]\n",
      "\n"
     ]
    }
   ],
   "source": [
    "for LP_idx in [1, 2]:\n",
    "    for DaS in [0]:\n",
    "        solves, is_valid, results = get_best_val(LP_idx, DaS)\n",
    "        print(f\"{LP_idx}, {DaS}: {is_valid}, {results}\")\n",
    "    print()"
   ]
  },
  {
   "cell_type": "code",
   "execution_count": 15,
   "metadata": {},
   "outputs": [
    {
     "name": "stdout",
     "output_type": "stream",
     "text": [
      "(25,) (35,) (35,) (35, 25)\n"
     ]
    },
    {
     "data": {
      "image/png": "[encoded data removed]",
      "text/plain": [
       "<Figure size 1800x2000 with 1 Axes>"
      ]
     },
     "metadata": {},
     "output_type": "display_data"
    }
   ],
   "source": [
    "tasks, _ = get_tasks(1, 10)\n",
    "models = loadModel(f'./THESIS_RESULTS/LP{1}_{0}.mso', ls_tasks= tasks, set_attribute= True)\n",
    "model = models.ls_model[0]\n",
    "model.render_history(yscale='log')"
   ]
  },
  {
   "cell_type": "code",
   "execution_count": null,
   "metadata": {},
   "outputs": [],
   "source": []
  },
  {
   "cell_type": "code",
   "execution_count": null,
   "metadata": {},
   "outputs": [],
   "source": []
  },
  {
   "cell_type": "code",
   "execution_count": null,
   "metadata": {},
   "outputs": [],
   "source": []
  },
  {
   "cell_type": "code",
   "execution_count": null,
   "metadata": {},
   "outputs": [],
   "source": []
  },
  {
   "cell_type": "code",
   "execution_count": null,
   "metadata": {},
   "outputs": [],
   "source": []
  },
  {
   "cell_type": "code",
   "execution_count": null,
   "metadata": {},
   "outputs": [],
   "source": []
  },
  {
   "cell_type": "code",
   "execution_count": null,
   "metadata": {},
   "outputs": [],
   "source": []
  },
  {
   "cell_type": "code",
   "execution_count": null,
   "metadata": {},
   "outputs": [],
   "source": []
  },
  {
   "cell_type": "code",
   "execution_count": null,
   "metadata": {},
   "outputs": [],
   "source": []
  },
  {
   "cell_type": "code",
   "execution_count": null,
   "metadata": {},
   "outputs": [],
   "source": []
  },
  {
   "cell_type": "code",
   "execution_count": null,
   "metadata": {},
   "outputs": [],
   "source": []
  },
  {
   "cell_type": "code",
   "execution_count": null,
   "metadata": {},
   "outputs": [],
   "source": []
  },
  {
   "cell_type": "code",
   "execution_count": null,
   "metadata": {},
   "outputs": [],
   "source": []
  },
  {
   "cell_type": "code",
   "execution_count": null,
   "metadata": {},
   "outputs": [],
   "source": []
  },
  {
   "cell_type": "code",
   "execution_count": null,
   "metadata": {},
   "outputs": [],
   "source": []
  },
  {
   "cell_type": "code",
   "execution_count": null,
   "metadata": {},
   "outputs": [],
   "source": []
  },
  {
   "cell_type": "code",
   "execution_count": null,
   "metadata": {},
   "outputs": [],
   "source": []
  },
  {
   "cell_type": "code",
   "execution_count": null,
   "metadata": {},
   "outputs": [],
   "source": []
  },
  {
   "cell_type": "code",
   "execution_count": null,
   "metadata": {},
   "outputs": [],
   "source": []
  },
  {
   "cell_type": "code",
   "execution_count": null,
   "metadata": {},
   "outputs": [],
   "source": []
  },
  {
   "cell_type": "code",
   "execution_count": null,
   "metadata": {},
   "outputs": [],
   "source": []
  },
  {
   "cell_type": "code",
   "execution_count": null,
   "metadata": {},
   "outputs": [],
   "source": []
  },
  {
   "cell_type": "code",
   "execution_count": null,
   "metadata": {},
   "outputs": [],
   "source": []
  },
  {
   "cell_type": "code",
   "execution_count": null,
   "metadata": {},
   "outputs": [],
   "source": []
  },
  {
   "cell_type": "code",
   "execution_count": null,
   "metadata": {},
   "outputs": [],
   "source": []
  },
  {
   "cell_type": "code",
   "execution_count": null,
   "metadata": {},
   "outputs": [],
   "source": []
  },
  {
   "cell_type": "code",
   "execution_count": 6,
   "metadata": {},
   "outputs": [
    {
     "data": {
      "text/plain": [
       "(25.76563400201401, 2506002080011812.5, 6953433281275128.0)"
      ]
     },
     "execution_count": 6,
     "metadata": {},
     "output_type": "execute_result"
    }
   ],
   "source": [
    "mi, avg, ma, _ = get_best_val(1, 1)\n",
    "mi, avg, ma"
   ]
  },
  {
   "cell_type": "code",
   "execution_count": 7,
   "metadata": {},
   "outputs": [
    {
     "ename": "FileNotFoundError",
     "evalue": "[Errno 2] No such file or directory: './THESIS_RESULTS/LP2_0.mso'",
     "output_type": "error",
     "traceback": [
      "\u001b[0;31m---------------------------------------------------------------------------\u001b[0m",
      "\u001b[0;31mFileNotFoundError\u001b[0m                         Traceback (most recent call last)",
      "Cell \u001b[0;32mIn[7], line 1\u001b[0m\n\u001b[0;32m----> 1\u001b[0m SBX_models \u001b[39m=\u001b[39m [loadModel(\u001b[39mf\u001b[39m\u001b[39m'\u001b[39m\u001b[39m./THESIS_RESULTS/LP\u001b[39m\u001b[39m{\u001b[39;00midx_data\u001b[39m}\u001b[39;00m\u001b[39m_0.mso\u001b[39m\u001b[39m'\u001b[39m, ls_tasks\u001b[39m=\u001b[39m tasks, set_attribute\u001b[39m=\u001b[39m \u001b[39mTrue\u001b[39;00m) \u001b[39mfor\u001b[39;00m idx_data \u001b[39min\u001b[39;00m \u001b[39mrange\u001b[39m(\u001b[39m1\u001b[39m, \u001b[39m4\u001b[39m)]\n",
      "Cell \u001b[0;32mIn[7], line 1\u001b[0m, in \u001b[0;36m<listcomp>\u001b[0;34m(.0)\u001b[0m\n\u001b[0;32m----> 1\u001b[0m SBX_models \u001b[39m=\u001b[39m [loadModel(\u001b[39mf\u001b[39;49m\u001b[39m'\u001b[39;49m\u001b[39m./THESIS_RESULTS/LP\u001b[39;49m\u001b[39m{\u001b[39;49;00midx_data\u001b[39m}\u001b[39;49;00m\u001b[39m_0.mso\u001b[39;49m\u001b[39m'\u001b[39;49m, ls_tasks\u001b[39m=\u001b[39;49m tasks, set_attribute\u001b[39m=\u001b[39;49m \u001b[39mTrue\u001b[39;49;00m) \u001b[39mfor\u001b[39;00m idx_data \u001b[39min\u001b[39;00m \u001b[39mrange\u001b[39m(\u001b[39m1\u001b[39m, \u001b[39m4\u001b[39m)]\n",
      "File \u001b[0;32m~/code/pyMSOO/pyMSOO/utils/LoadSaveModel/load_utils.py:29\u001b[0m, in \u001b[0;36mloadModel\u001b[0;34m(PATH, ls_tasks, set_attribute)\u001b[0m\n\u001b[1;32m     25\u001b[0m \u001b[39melse\u001b[39;00m:\n\u001b[1;32m     26\u001b[0m     \u001b[39massert\u001b[39;00m path_tmp\u001b[39m.\u001b[39mname[i:] \u001b[39m==\u001b[39m \u001b[39m'\u001b[39m\u001b[39m.mso\u001b[39m\u001b[39m'\u001b[39m, \u001b[39m'\u001b[39m\u001b[39mOnly load model with .mso, not \u001b[39m\u001b[39m'\u001b[39m \u001b[39m+\u001b[39m \\\n\u001b[1;32m     27\u001b[0m         path_tmp\u001b[39m.\u001b[39mname[i:]\n\u001b[0;32m---> 29\u001b[0m f \u001b[39m=\u001b[39m \u001b[39mopen\u001b[39;49m(PATH, \u001b[39m'\u001b[39;49m\u001b[39mrb\u001b[39;49m\u001b[39m'\u001b[39;49m)\n\u001b[1;32m     30\u001b[0m model \u001b[39m=\u001b[39m pickle\u001b[39m.\u001b[39mload(f)\n\u001b[1;32m     31\u001b[0m f\u001b[39m.\u001b[39mclose()\n",
      "\u001b[0;31mFileNotFoundError\u001b[0m: [Errno 2] No such file or directory: './THESIS_RESULTS/LP2_0.mso'"
     ]
    }
   ],
   "source": [
    "SBX_models = [loadModel(f'./THESIS_RESULTS/LP{idx_data}_0.mso', ls_tasks= tasks, set_attribute= True) for idx_data in range(1, 4)]"
   ]
  },
  {
   "cell_type": "code",
   "execution_count": 32,
   "metadata": {},
   "outputs": [
    {
     "data": {
      "text/plain": [
       "23.302258507537122"
      ]
     },
     "execution_count": 32,
     "metadata": {},
     "output_type": "execute_result"
    }
   ],
   "source": [
    "for SBX_m in SBX_models:\n",
    "    print(np.average([tasks[0](model.last_pop.get_solves()[0].genes) for model in SBX_m.ls_model]))"
   ]
  },
  {
   "cell_type": "code",
   "execution_count": null,
   "metadata": {},
   "outputs": [],
   "source": []
  },
  {
   "cell_type": "code",
   "execution_count": null,
   "metadata": {},
   "outputs": [],
   "source": []
  },
  {
   "cell_type": "code",
   "execution_count": null,
   "metadata": {},
   "outputs": [],
   "source": []
  },
  {
   "cell_type": "code",
   "execution_count": null,
   "metadata": {},
   "outputs": [],
   "source": []
  },
  {
   "cell_type": "code",
   "execution_count": null,
   "metadata": {},
   "outputs": [],
   "source": []
  },
  {
   "cell_type": "code",
   "execution_count": null,
   "metadata": {},
   "outputs": [],
   "source": []
  },
  {
   "cell_type": "code",
   "execution_count": null,
   "metadata": {},
   "outputs": [],
   "source": []
  },
  {
   "cell_type": "code",
   "execution_count": null,
   "metadata": {},
   "outputs": [],
   "source": []
  },
  {
   "cell_type": "code",
   "execution_count": null,
   "metadata": {},
   "outputs": [],
   "source": []
  }
 ],
 "metadata": {
  "kernelspec": {
   "display_name": "pyMSOO",
   "language": "python",
   "name": "python3"
  },
  "language_info": {
   "codemirror_mode": {
    "name": "ipython",
    "version": 3
   },
   "file_extension": ".py",
   "mimetype": "text/x-python",
   "name": "python",
   "nbconvert_exporter": "python",
   "pygments_lexer": "ipython3",
   "version": "3.8.0"
  },
  "orig_nbformat": 4,
  "vscode": {
   "interpreter": {
    "hash": "c73222a8935ee4ea3abd391223ae44e72c1928dd14faacaa576406413b4d79f3"
   }
  }
 },
 "nbformat": 4,
 "nbformat_minor": 2
}
