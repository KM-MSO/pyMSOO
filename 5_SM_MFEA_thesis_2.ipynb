{
 "cells": [
  {
   "attachments": {},
   "cell_type": "markdown",
   "metadata": {},
   "source": [
    "# Import"
   ]
  },
  {
   "cell_type": "code",
   "execution_count": 2,
   "metadata": {},
   "outputs": [],
   "source": [
    "import numpy as np\n",
    "import pandas as pd\n",
    "\n",
    "from pyMSOO.MFEA.model import SM_MFEA\n",
    "from pyMSOO.utils.Crossover import *\n",
    "from pyMSOO.utils.Mutation import *\n",
    "from pyMSOO.utils.Selection import *\n",
    "from pyMSOO.utils.DimensionAwareStrategy import DaS_strategy\n",
    "\n",
    "from pyMSOO.utils.EA import * \n",
    "\n",
    "from pyMSOO.utils.MultiRun.RunMultiTime import * \n",
    "from pyMSOO.utils.MultiRun.RunMultiBenchmark import * \n",
    "from pyMSOO.MFEA.benchmark.continous.utils import Individual_func\n",
    "from pyMSOO.utils.LoadSaveModel.load_utils import loadModel"
   ]
  },
  {
   "attachments": {},
   "cell_type": "markdown",
   "metadata": {},
   "source": [
    "# Run"
   ]
  },
  {
   "cell_type": "code",
   "execution_count": 3,
   "metadata": {},
   "outputs": [],
   "source": [
    "from thesis_2 import func, get_data, get_tasks"
   ]
  },
  {
   "attachments": {},
   "cell_type": "markdown",
   "metadata": {},
   "source": [
    "1 time"
   ]
  },
  {
   "cell_type": "code",
   "execution_count": 15,
   "metadata": {},
   "outputs": [],
   "source": [
    "def get_best_val(LP_idx, DaS):\n",
    "    tasks, _ = get_tasks(LP_idx, 10)\n",
    "    models = loadModel(f'./THESIS_RESULTS/LP{LP_idx}_{DaS}.mso', ls_tasks= tasks, set_attribute= True)\n",
    "    \n",
    "    solves = [model.last_pop.get_solves()[0].genes for model in models.ls_model]\n",
    "    results = [tasks[0](model.last_pop.get_solves()[0].genes) for model in models.ls_model]\n",
    "    return np.min(results), np.average(results), np.max(results), results, solves"
   ]
  },
  {
   "cell_type": "code",
   "execution_count": 16,
   "metadata": {},
   "outputs": [
    {
     "name": "stdout",
     "output_type": "stream",
     "text": [
      "(25,) (35,) (35,) (35, 25)\n",
      "1, 0: 18.887061792514128, 21.382969239881053, 23.157816746253168, [22.104029180875866, 18.887061792514128, 23.157816746253168]\n",
      "\n",
      "(100,) (1032,) (1032,) (1032, 100)\n",
      "2, 0: 49.870452067334156, 53.328675638183455, 56.77612518622848, [56.77612518622848, 53.33944966098774, 49.870452067334156]\n",
      "\n"
     ]
    }
   ],
   "source": [
    "for LP_idx in [1, 2]:\n",
    "    for DaS in [0]:\n",
    "        mi, avg, ma, _, solves = get_best_val(LP_idx, DaS)\n",
    "        print(f\"{LP_idx}, {DaS}: {mi}, {avg}, {ma}, {_}\")\n",
    "    print()"
   ]
  },
  {
   "cell_type": "code",
   "execution_count": null,
   "metadata": {},
   "outputs": [],
   "source": []
  },
  {
   "cell_type": "code",
   "execution_count": null,
   "metadata": {},
   "outputs": [],
   "source": []
  },
  {
   "cell_type": "code",
   "execution_count": null,
   "metadata": {},
   "outputs": [],
   "source": []
  },
  {
   "cell_type": "code",
   "execution_count": null,
   "metadata": {},
   "outputs": [],
   "source": []
  },
  {
   "cell_type": "code",
   "execution_count": null,
   "metadata": {},
   "outputs": [],
   "source": []
  },
  {
   "cell_type": "code",
   "execution_count": null,
   "metadata": {},
   "outputs": [],
   "source": []
  },
  {
   "cell_type": "code",
   "execution_count": null,
   "metadata": {},
   "outputs": [],
   "source": []
  },
  {
   "cell_type": "code",
   "execution_count": null,
   "metadata": {},
   "outputs": [],
   "source": []
  },
  {
   "cell_type": "code",
   "execution_count": null,
   "metadata": {},
   "outputs": [],
   "source": []
  },
  {
   "cell_type": "code",
   "execution_count": null,
   "metadata": {},
   "outputs": [],
   "source": []
  },
  {
   "cell_type": "code",
   "execution_count": null,
   "metadata": {},
   "outputs": [],
   "source": []
  },
  {
   "cell_type": "code",
   "execution_count": null,
   "metadata": {},
   "outputs": [],
   "source": []
  },
  {
   "cell_type": "code",
   "execution_count": null,
   "metadata": {},
   "outputs": [],
   "source": []
  },
  {
   "cell_type": "code",
   "execution_count": null,
   "metadata": {},
   "outputs": [],
   "source": []
  },
  {
   "cell_type": "code",
   "execution_count": null,
   "metadata": {},
   "outputs": [],
   "source": []
  },
  {
   "cell_type": "code",
   "execution_count": null,
   "metadata": {},
   "outputs": [],
   "source": []
  },
  {
   "cell_type": "code",
   "execution_count": null,
   "metadata": {},
   "outputs": [],
   "source": []
  },
  {
   "cell_type": "code",
   "execution_count": 6,
   "metadata": {},
   "outputs": [
    {
     "data": {
      "text/plain": [
       "(25.76563400201401, 2506002080011812.5, 6953433281275128.0)"
      ]
     },
     "execution_count": 6,
     "metadata": {},
     "output_type": "execute_result"
    }
   ],
   "source": [
    "mi, avg, ma, _ = get_best_val(1, 1)\n",
    "mi, avg, ma"
   ]
  },
  {
   "cell_type": "code",
   "execution_count": 7,
   "metadata": {},
   "outputs": [
    {
     "ename": "FileNotFoundError",
     "evalue": "[Errno 2] No such file or directory: './THESIS_RESULTS/LP2_0.mso'",
     "output_type": "error",
     "traceback": [
      "\u001b[0;31m---------------------------------------------------------------------------\u001b[0m",
      "\u001b[0;31mFileNotFoundError\u001b[0m                         Traceback (most recent call last)",
      "Cell \u001b[0;32mIn[7], line 1\u001b[0m\n\u001b[0;32m----> 1\u001b[0m SBX_models \u001b[39m=\u001b[39m [loadModel(\u001b[39mf\u001b[39m\u001b[39m'\u001b[39m\u001b[39m./THESIS_RESULTS/LP\u001b[39m\u001b[39m{\u001b[39;00midx_data\u001b[39m}\u001b[39;00m\u001b[39m_0.mso\u001b[39m\u001b[39m'\u001b[39m, ls_tasks\u001b[39m=\u001b[39m tasks, set_attribute\u001b[39m=\u001b[39m \u001b[39mTrue\u001b[39;00m) \u001b[39mfor\u001b[39;00m idx_data \u001b[39min\u001b[39;00m \u001b[39mrange\u001b[39m(\u001b[39m1\u001b[39m, \u001b[39m4\u001b[39m)]\n",
      "Cell \u001b[0;32mIn[7], line 1\u001b[0m, in \u001b[0;36m<listcomp>\u001b[0;34m(.0)\u001b[0m\n\u001b[0;32m----> 1\u001b[0m SBX_models \u001b[39m=\u001b[39m [loadModel(\u001b[39mf\u001b[39;49m\u001b[39m'\u001b[39;49m\u001b[39m./THESIS_RESULTS/LP\u001b[39;49m\u001b[39m{\u001b[39;49;00midx_data\u001b[39m}\u001b[39;49;00m\u001b[39m_0.mso\u001b[39;49m\u001b[39m'\u001b[39;49m, ls_tasks\u001b[39m=\u001b[39;49m tasks, set_attribute\u001b[39m=\u001b[39;49m \u001b[39mTrue\u001b[39;49;00m) \u001b[39mfor\u001b[39;00m idx_data \u001b[39min\u001b[39;00m \u001b[39mrange\u001b[39m(\u001b[39m1\u001b[39m, \u001b[39m4\u001b[39m)]\n",
      "File \u001b[0;32m~/code/pyMSOO/pyMSOO/utils/LoadSaveModel/load_utils.py:29\u001b[0m, in \u001b[0;36mloadModel\u001b[0;34m(PATH, ls_tasks, set_attribute)\u001b[0m\n\u001b[1;32m     25\u001b[0m \u001b[39melse\u001b[39;00m:\n\u001b[1;32m     26\u001b[0m     \u001b[39massert\u001b[39;00m path_tmp\u001b[39m.\u001b[39mname[i:] \u001b[39m==\u001b[39m \u001b[39m'\u001b[39m\u001b[39m.mso\u001b[39m\u001b[39m'\u001b[39m, \u001b[39m'\u001b[39m\u001b[39mOnly load model with .mso, not \u001b[39m\u001b[39m'\u001b[39m \u001b[39m+\u001b[39m \\\n\u001b[1;32m     27\u001b[0m         path_tmp\u001b[39m.\u001b[39mname[i:]\n\u001b[0;32m---> 29\u001b[0m f \u001b[39m=\u001b[39m \u001b[39mopen\u001b[39;49m(PATH, \u001b[39m'\u001b[39;49m\u001b[39mrb\u001b[39;49m\u001b[39m'\u001b[39;49m)\n\u001b[1;32m     30\u001b[0m model \u001b[39m=\u001b[39m pickle\u001b[39m.\u001b[39mload(f)\n\u001b[1;32m     31\u001b[0m f\u001b[39m.\u001b[39mclose()\n",
      "\u001b[0;31mFileNotFoundError\u001b[0m: [Errno 2] No such file or directory: './THESIS_RESULTS/LP2_0.mso'"
     ]
    }
   ],
   "source": [
    "SBX_models = [loadModel(f'./THESIS_RESULTS/LP{idx_data}_0.mso', ls_tasks= tasks, set_attribute= True) for idx_data in range(1, 4)]"
   ]
  },
  {
   "cell_type": "code",
   "execution_count": 32,
   "metadata": {},
   "outputs": [
    {
     "data": {
      "text/plain": [
       "23.302258507537122"
      ]
     },
     "execution_count": 32,
     "metadata": {},
     "output_type": "execute_result"
    }
   ],
   "source": [
    "for SBX_m in SBX_models:\n",
    "    print(np.average([tasks[0](model.last_pop.get_solves()[0].genes) for model in SBX_m.ls_model]))"
   ]
  },
  {
   "cell_type": "code",
   "execution_count": null,
   "metadata": {},
   "outputs": [],
   "source": []
  },
  {
   "cell_type": "code",
   "execution_count": null,
   "metadata": {},
   "outputs": [],
   "source": []
  },
  {
   "cell_type": "code",
   "execution_count": null,
   "metadata": {},
   "outputs": [],
   "source": []
  },
  {
   "cell_type": "code",
   "execution_count": null,
   "metadata": {},
   "outputs": [],
   "source": []
  },
  {
   "cell_type": "code",
   "execution_count": null,
   "metadata": {},
   "outputs": [],
   "source": []
  },
  {
   "cell_type": "code",
   "execution_count": null,
   "metadata": {},
   "outputs": [],
   "source": []
  },
  {
   "cell_type": "code",
   "execution_count": null,
   "metadata": {},
   "outputs": [],
   "source": []
  },
  {
   "cell_type": "code",
   "execution_count": null,
   "metadata": {},
   "outputs": [],
   "source": []
  },
  {
   "cell_type": "code",
   "execution_count": null,
   "metadata": {},
   "outputs": [],
   "source": []
  }
 ],
 "metadata": {
  "kernelspec": {
   "display_name": "pyMSOO",
   "language": "python",
   "name": "python3"
  },
  "language_info": {
   "codemirror_mode": {
    "name": "ipython",
    "version": 3
   },
   "file_extension": ".py",
   "mimetype": "text/x-python",
   "name": "python",
   "nbconvert_exporter": "python",
   "pygments_lexer": "ipython3",
   "version": "3.8.0"
  },
  "orig_nbformat": 4,
  "vscode": {
   "interpreter": {
    "hash": "c73222a8935ee4ea3abd391223ae44e72c1928dd14faacaa576406413b4d79f3"
   }
  }
 },
 "nbformat": 4,
 "nbformat_minor": 2
}
