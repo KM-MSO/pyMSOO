{
 "cells": [
  {
   "cell_type": "code",
   "execution_count": 1,
   "metadata": {},
   "outputs": [],
   "source": [
    "from pyMSOO.MFEA.benchmark.continous.CEC17 import CEC17_benchmark \n",
    "from pyMSOO.MFEA.benchmark.continous.WCCI22 import WCCI22_benchmark\n",
    "import numpy as np "
   ]
  },
  {
   "cell_type": "code",
   "execution_count": 3,
   "metadata": {},
   "outputs": [],
   "source": [
    "'''Khởi tạo tác vụ '''\n",
    "tasks, IndClass = CEC17_benchmark.get_10tasks_benchmark()\n",
    "tasks, IndClass = WCCI22_benchmark.get_complex_benchmark(ID= 1)\n",
    "tasks, IndClass = WCCI22_benchmark.get_50tasks_benchmark(ID= 1)"
   ]
  },
  {
   "cell_type": "code",
   "execution_count": 4,
   "metadata": {},
   "outputs": [
    {
     "data": {
      "text/plain": [
       "[<pyMSOO.MFEA.benchmark.continous.WCCI22.WCCI22_2tasks_TaskClass at 0x1696ee73ac0>,\n",
       " <pyMSOO.MFEA.benchmark.continous.WCCI22.WCCI22_2tasks_TaskClass at 0x1696ee715d0>]"
      ]
     },
     "execution_count": 4,
     "metadata": {},
     "output_type": "execute_result"
    }
   ],
   "source": [
    "'''Xem chi tiết '''\n",
    "tasks"
   ]
  },
  {
   "cell_type": "code",
   "execution_count": 2,
   "metadata": {},
   "outputs": [
    {
     "name": "stdout",
     "output_type": "stream",
     "text": [
      "<class 'list'>\n",
      "<class 'numpy.ndarray'>\n",
      "<class 'numpy.ndarray'>\n"
     ]
    }
   ],
   "source": [
    "import numpy as np \n",
    "\n",
    "a = [1,2,3,4,5]\n",
    "print(type(a))\n",
    "a = np.array(a)\n",
    "print(type(a))\n",
    "x = np.random.rand(50) \n",
    "print(type(x))"
   ]
  },
  {
   "cell_type": "code",
   "execution_count": 5,
   "metadata": {},
   "outputs": [
    {
     "data": {
      "text/plain": [
       "687.0676693667924"
      ]
     },
     "execution_count": 5,
     "metadata": {},
     "output_type": "execute_result"
    }
   ],
   "source": [
    "'''Khởi tạo giá trị của x và đánh giá'''\n",
    "x = np.random.rand(50) \n",
    "tasks[0](x) # thực hiện đánh giá hàm "
   ]
  },
  {
   "cell_type": "code",
   "execution_count": 14,
   "metadata": {},
   "outputs": [],
   "source": [
    "with open(\"./text.txt\", 'r') as file: \n",
    "    data = file.readline()\n",
    "\n",
    "data = data.split(\" \")\n",
    "data = np.array(data, dtype= np.float64)"
   ]
  },
  {
   "cell_type": "code",
   "execution_count": 15,
   "metadata": {},
   "outputs": [
    {
     "name": "stdout",
     "output_type": "stream",
     "text": [
      "<class 'numpy.float32'>\n"
     ]
    }
   ],
   "source": [
    "print(type(data[0]))"
   ]
  },
  {
   "cell_type": "code",
   "execution_count": 8,
   "metadata": {},
   "outputs": [],
   "source": [
    "x = np.array([0.1,0.2, 0.5,0.2, 0.55, 0.95, 0.14, 0.4, 0.5,0.78], dtype= np.float32)\n",
    "x_de = x * (50 + 50) + -50 "
   ]
  },
  {
   "cell_type": "code",
   "execution_count": 9,
   "metadata": {},
   "outputs": [
    {
     "name": "stdout",
     "output_type": "stream",
     "text": [
      "[-40. -30.   0. -30.   5.  45. -36. -10.   0.  28.]\n"
     ]
    }
   ],
   "source": [
    "print(x_de)"
   ]
  },
  {
   "cell_type": "code",
   "execution_count": 12,
   "metadata": {},
   "outputs": [],
   "source": [
    "gene_pa = np.array([0.1,0.2, 0.5,0.2, 0.55, 0.95, 0.14, 0.4, 0.5,0.78], dtype= np.float32)\n",
    "gene_pb = np.array([0.2,0.3, 0.2,0.6, 0.7, 0.5, 0.6, 0.15, 0.6,0.9], dtype= np.float32)\n",
    "\n",
    "def crossover(gene_pa, gene_pb):\n",
    "    nc = 2 \n",
    "    u = np.random.rand(10)\n",
    "    beta = np.where(u < 0.5, (2*u)**(1/(nc +1)), (2 * (1 - u))**(-1 / (nc + 1)))\n",
    "\n",
    "    #like pa\n",
    "    gene_oa = np.clip(0.5*((1 + beta) * gene_pa + (1 - beta) * gene_pb), 0, 1)\n",
    "    #like pb\n",
    "    gene_ob = np.clip(0.5*((1 - beta) * gene_pa + (1 + beta) * gene_pb), 0, 1)\n",
    "    return gene_oa, gene_ob\n"
   ]
  },
  {
   "cell_type": "code",
   "execution_count": 9,
   "metadata": {},
   "outputs": [],
   "source": [
    "def mutation(genes):\n",
    "    pm = 1 / 10\n",
    "    nm = 5 \n",
    "    idx_mutation = np.where(np.random.rand(10) <= pm)[0]\n",
    "\n",
    "    u = np.zeros((10,)) + 0.5\n",
    "    u[idx_mutation] = np.random.rand(len(idx_mutation))\n",
    "\n",
    "    delta = np.where(u < 0.5,\n",
    "        # delta_l\n",
    "        (2*u)**(1/(nm + 1)) - 1,\n",
    "        # delta_r\n",
    "        1 - (2*(1-u))**(1/(nm + 1))\n",
    "    )\n",
    "\n",
    "\n",
    "    return np.where(delta < 0,\n",
    "                        # delta_l: ind -> 0\n",
    "                        # = genes * (delta + 1)\n",
    "                        genes + delta * genes,\n",
    "                        # delta_r: ind -> 1\n",
    "                        # = genes (1 - delta) + delta\n",
    "                        genes + delta * (1 - genes)\n",
    "                    )\n",
    "    \n",
    "def _func(x):\n",
    "    x = x * 100 - 50 \n",
    "    l = 100*np.sum((x[1:] - x[:-1]**2) ** 2)\n",
    "    r = np.sum((x[:-1] - 1) ** 2)\n",
    "    return l + r"
   ]
  },
  {
   "cell_type": "code",
   "execution_count": 18,
   "metadata": {},
   "outputs": [],
   "source": [
    "x = np.load(\"./random_x.npy\")\n",
    "off = [] \n",
    "while len(off) < len(x):\n",
    "    idx1, idx2, idx3, idx4 = np.random.choice(len(x), size= 4, replace= False)\n",
    "    idx1 = idx1 if _func(x[idx1]) < _func(x[idx2]) else idx2\n",
    "    idx3 = idx3 if _func(x[idx3]) < _func(x[idx4]) else idx4\n",
    "    if np.random.rand() < 0.7:\n",
    "        oa, ob = crossover(x[idx1], x[idx3])\n",
    "    else: \n",
    "        oa = mutation(np.copy(x[idx1]))\n",
    "        ob = mutation(np.copy(x[idx3]))\n",
    "    off.append(np.copy(oa))\n",
    "    off.append(np.copy(ob))"
   ]
  },
  {
   "cell_type": "code",
   "execution_count": 19,
   "metadata": {},
   "outputs": [
    {
     "name": "stdout",
     "output_type": "stream",
     "text": [
      "[0.1  0.2  0.5  0.2  0.55 0.95 0.14 0.4  0.5  0.78]\n",
      "[0.08 0.43 0.95 0.84 0.73 0.96 0.53 0.95 0.15 0.07]\n",
      "[0.57 0.94 0.46 0.87 0.23 0.33 0.93 0.34 0.02 0.2 ]\n",
      "[0.29 0.16 0.78 0.03 0.88 0.2  0.13 0.64 0.16 0.49]\n",
      "[0.29 0.28 0.97 0.01 0.55 0.67 0.64 0.45 0.91 0.56]\n",
      "[0.8  0.66 0.33 0.45 0.91 0.64 0.05 0.4  0.32 0.73]\n",
      "[0.76 0.76 0.27 0.91 0.85 0.5  0.68 0.09 0.51 0.29]\n",
      "[0.87 0.65 0.77 0.52 0.57 0.75 0.12 0.76 0.55 0.08]\n",
      "[0.72 0.68 0.31 0.3  0.2  0.96 0.53 0.15 0.69 0.93]\n",
      "[0.63 0.18 0.79 0.26 0.15 0.17 0.03 0.69 0.07 0.77]\n",
      "[0.8  0.66 0.33 0.45 0.91 0.64 0.05 0.4  0.32 0.73]\n",
      "[0.29 0.16 0.78 0.03 0.68 0.2  0.13 0.64 0.16 0.49]\n",
      "[0.76 0.76 0.27 0.91 0.85 0.5  0.58 0.1  0.51 0.29]\n",
      "[0.85 0.67 0.77 0.52 0.57 0.75 0.12 0.76 0.55 0.08]\n",
      "[0.94 0.66 0.66 0.57 0.63 0.91 0.   0.65 0.55 0.03]\n",
      "[0.69 0.76 0.38 0.86 0.8  0.34 1.   0.19 0.51 0.35]\n",
      "[0.8  0.66 0.33 0.45 0.91 0.64 0.05 0.4  0.32 0.73]\n",
      "[0.76 0.76 0.27 0.92 0.85 0.5  0.68 0.09 0.51 0.29]\n",
      "[0.38 0.11 0.85 0.03 0.88 0.24 0.29 0.52 0.16 0.51]\n",
      "[0.67 0.81 0.2  0.92 0.86 0.47 0.52 0.21 0.5  0.27]\n"
     ]
    }
   ],
   "source": [
    "off = np.array(off)\n",
    "x = np.concatenate([x, off], axis= 0)\n",
    "for i in x: \n",
    "    print(np.round(i, 2))"
   ]
  },
  {
   "cell_type": "code",
   "execution_count": 39,
   "metadata": {},
   "outputs": [],
   "source": [
    "argsort = np.argsort([_func(i) for i in x])"
   ]
  },
  {
   "cell_type": "code",
   "execution_count": 1,
   "metadata": {},
   "outputs": [
    {
     "name": "stdout",
     "output_type": "stream",
     "text": [
      "Cá thể c_1\n",
      "Cá thể c_2\n",
      "Cá thể c_3\n",
      "Cá thể c_4\n",
      "Cá thể c_5\n",
      "Cá thể c_6\n",
      "Cá thể c_7\n",
      "Cá thể c_8\n",
      "Cá thể c_9\n",
      "Cá thể c_10\n"
     ]
    }
   ],
   "source": [
    "for i in range(1,11):\n",
    "    print(f\"Cá thể c_{i}\")"
   ]
  },
  {
   "cell_type": "code",
   "execution_count": 44,
   "metadata": {},
   "outputs": [],
   "source": [
    "argsort2 = np.argsort(argsort)"
   ]
  },
  {
   "cell_type": "code",
   "execution_count": 42,
   "metadata": {},
   "outputs": [
    {
     "name": "stdout",
     "output_type": "stream",
     "text": [
      "[13  7 19  8 12 10 16  5  6 17  0 15 11 14 18  3  9  4  2  1]\n"
     ]
    }
   ],
   "source": [
    "print(argsort)"
   ]
  },
  {
   "cell_type": "code",
   "execution_count": 41,
   "metadata": {},
   "outputs": [],
   "source": [
    "a = np.array([_func(i) for i in x])[argsort]"
   ]
  },
  {
   "cell_type": "code",
   "execution_count": 38,
   "metadata": {},
   "outputs": [
    {
     "name": "stdout",
     "output_type": "stream",
     "text": [
      "[4.83069544e+08 5.13979153e+08 7.01109841e+08 7.50171078e+08\n",
      " 8.08612943e+08 8.14919435e+08 8.21583788e+08 8.21583788e+08\n",
      " 8.46863882e+08 8.68629126e+08 1.02334359e+09 1.03115366e+09\n",
      " 1.10763687e+09 1.29098554e+09 1.29290980e+09 1.30873735e+09\n",
      " 1.32164537e+09 1.40940086e+09 1.51811629e+09 1.86868686e+09]\n"
     ]
    }
   ],
   "source": [
    "print(a)"
   ]
  },
  {
   "cell_type": "code",
   "execution_count": 28,
   "metadata": {},
   "outputs": [
    {
     "name": "stdout",
     "output_type": "stream",
     "text": [
      "c_1\n",
      "c_2\n",
      "c_3\n",
      "c_4\n",
      "c_5\n",
      "c_6\n",
      "c_7\n",
      "c_8\n",
      "c_9\n",
      "c_10\n"
     ]
    }
   ],
   "source": [
    "for i in range(1,11):\n",
    "    print(f'c_{i}')"
   ]
  },
  {
   "cell_type": "code",
   "execution_count": 36,
   "metadata": {},
   "outputs": [
    {
     "name": "stdout",
     "output_type": "stream",
     "text": [
      "1.02E+09\n",
      "1.87E+09\n",
      "1.52E+09\n",
      "1.31E+09\n",
      "1.41E+09\n",
      "8.22E+08\n",
      "8.47E+08\n",
      "5.14E+08\n",
      "7.50E+08\n",
      "1.32E+09\n",
      "8.15E+08\n",
      "1.11E+09\n",
      "8.09E+08\n",
      "4.83E+08\n",
      "1.29E+09\n",
      "1.03E+09\n",
      "8.22E+08\n",
      "8.69E+08\n",
      "1.29E+09\n",
      "7.01E+08\n"
     ]
    }
   ],
   "source": [
    "for i in x: \n",
    "    print(\"%.2E\" %_func(i))"
   ]
  },
  {
   "cell_type": "code",
   "execution_count": null,
   "metadata": {},
   "outputs": [],
   "source": []
  },
  {
   "cell_type": "code",
   "execution_count": 45,
   "metadata": {},
   "outputs": [
    {
     "name": "stdout",
     "output_type": "stream",
     "text": [
      "11\n",
      "20\n",
      "19\n",
      "16\n",
      "18\n",
      "8\n",
      "9\n",
      "2\n",
      "4\n",
      "17\n",
      "6\n",
      "13\n",
      "5\n",
      "1\n",
      "14\n",
      "12\n",
      "7\n",
      "10\n",
      "15\n",
      "3\n"
     ]
    }
   ],
   "source": [
    "for i in argsort2: \n",
    "    print(i+1)"
   ]
  },
  {
   "cell_type": "code",
   "execution_count": 21,
   "metadata": {},
   "outputs": [
    {
     "name": "stdout",
     "output_type": "stream",
     "text": [
      "Cá thể x_1:  [0.1, 0.2, 0.5, 0.2, 0.55, 0.95, 0.14, 0.4, 0.5, 0.78]\n",
      "Cá thể x_2:  [0.08, 0.43, 0.95, 0.84, 0.73, 0.96, 0.53, 0.95, 0.15, 0.07]\n",
      "Cá thể x_3:  [0.57, 0.94, 0.46, 0.87, 0.23, 0.33, 0.93, 0.34, 0.02, 0.2]\n",
      "Cá thể x_4:  [0.29, 0.16, 0.78, 0.03, 0.88, 0.2, 0.13, 0.64, 0.16, 0.49]\n",
      "Cá thể x_5:  [0.29, 0.28, 0.97, 0.01, 0.55, 0.67, 0.64, 0.45, 0.91, 0.56]\n",
      "Cá thể x_6:  [0.8, 0.66, 0.33, 0.45, 0.91, 0.64, 0.05, 0.4, 0.32, 0.73]\n",
      "Cá thể x_7:  [0.76, 0.76, 0.27, 0.91, 0.85, 0.5, 0.68, 0.09, 0.51, 0.29]\n",
      "Cá thể x_8:  [0.87, 0.65, 0.77, 0.52, 0.57, 0.75, 0.12, 0.76, 0.55, 0.08]\n",
      "Cá thể x_9:  [0.72, 0.68, 0.31, 0.3, 0.2, 0.96, 0.53, 0.15, 0.69, 0.93]\n",
      "Cá thể x_10:  [0.63, 0.18, 0.79, 0.26, 0.15, 0.17, 0.03, 0.69, 0.07, 0.77]\n"
     ]
    }
   ],
   "source": [
    "x = np.random.rand(10, 10)\n",
    "x[0] = np.array([0.1,0.2, 0.5,0.2, 0.55, 0.95, 0.14, 0.4, 0.5,0.78], dtype= np.float32)\n",
    "for index,i in enumerate(x): \n",
    "    print(f'Cá thể x_{index + 1}: ', np.round(i, 2).tolist())"
   ]
  },
  {
   "cell_type": "code",
   "execution_count": 25,
   "metadata": {},
   "outputs": [],
   "source": [
    "np.save('random_x.npy', x)"
   ]
  },
  {
   "cell_type": "code",
   "execution_count": 24,
   "metadata": {},
   "outputs": [],
   "source": [
    "\n",
    "\n",
    "def _func(x):\n",
    "    l = 100*np.sum((x[1:] - x[:-1]**2) ** 2)\n",
    "    r = np.sum((x[:-1] - 1) ** 2)\n",
    "    return l + r"
   ]
  },
  {
   "cell_type": "code",
   "execution_count": 23,
   "metadata": {},
   "outputs": [
    {
     "data": {
      "text/plain": [
       "3343590.5499999523"
      ]
     },
     "execution_count": 23,
     "metadata": {},
     "output_type": "execute_result"
    }
   ],
   "source": [
    "1023343590.55 - 1.02e9"
   ]
  },
  {
   "cell_type": "code",
   "execution_count": 22,
   "metadata": {},
   "outputs": [
    {
     "name": "stdout",
     "output_type": "stream",
     "text": [
      "1023343590.5495087\n",
      "1868686858.9524992\n",
      "1518116286.4742084\n",
      "1308737351.5823112\n",
      "1409400855.0349855\n",
      "821583787.9332201\n",
      "846863881.8929383\n",
      "513979152.92018116\n",
      "750171078.2564496\n",
      "1321645372.2871668\n"
     ]
    }
   ],
   "source": [
    "for i in x: \n",
    "    print(_func(i * 100 - 50))"
   ]
  },
  {
   "cell_type": "code",
   "execution_count": 20,
   "metadata": {},
   "outputs": [
    {
     "data": {
      "text/plain": [
       "array([-40., -30.,   0., -30.,   5.,  45., -36., -10.,   0.,  28.],\n",
       "      dtype=float32)"
      ]
     },
     "execution_count": 20,
     "metadata": {},
     "output_type": "execute_result"
    }
   ],
   "source": [
    "x_de"
   ]
  },
  {
   "cell_type": "code",
   "execution_count": null,
   "metadata": {},
   "outputs": [],
   "source": [
    "x = [\n",
    "    [0.49700407 0.49866642 0.49952277 0.50276777 0.50285304 0.50331323\n",
    "  0.50631092 0.50705511 0.51033615 0.5393445 ],\n",
    "  [0.49700407 0.49866642 0.49952277 0.50276777 0.50285304 0.50331323\n",
    "  0.50631092 0.50705511 0.51033615 0.5393445 ],\n",
    "  [0.49700407 0.49866642 0.49952277 0.50276777 0.50285304 0.50331323\n",
    "  0.50631092 0.50705511 0.51033615 0.5393445 ],\n",
    "  [0.49700407 0.49866642 0.49952277 0.50276777 0.50285304 0.50331323\n",
    "  0.50631092 0.50705511 0.51033615 0.5393445 ],\n",
    "  [0.49700407 0.49866642 0.49952277 0.50276777 0.50285304 0.50331323\n",
    "  0.50631092 0.50705511 0.51033615 0.5393445 ],\n",
    "  [0.49700407 0.49866642 0.49952277 0.50276777 0.50285304 0.50331323\n",
    "  0.50631092 0.50705511 0.51033615 0.5393445 ],\n",
    "  \n",
    "\n",
    "]"
   ]
  }
 ],
 "metadata": {
  "kernelspec": {
   "display_name": "Python 3",
   "language": "python",
   "name": "python3"
  },
  "language_info": {
   "codemirror_mode": {
    "name": "ipython",
    "version": 3
   },
   "file_extension": ".py",
   "mimetype": "text/x-python",
   "name": "python",
   "nbconvert_exporter": "python",
   "pygments_lexer": "ipython3",
   "version": "3.10.8"
  },
  "orig_nbformat": 4
 },
 "nbformat": 4,
 "nbformat_minor": 2
}
