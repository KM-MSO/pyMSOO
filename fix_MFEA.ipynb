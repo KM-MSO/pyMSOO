{
 "cells": [
  {
   "cell_type": "code",
   "execution_count": 2,
   "metadata": {},
   "outputs": [],
   "source": [
    "from pyMSOO.MFEA.model import MFEA_base, SM_MFEA, LSA21\n",
    "from pyMSOO.MFEA.competitionModel import SM_MFEA_Competition\n",
    "from pyMSOO.utils.Crossover import *\n",
    "from pyMSOO.utils.Mutation import *\n",
    "from pyMSOO.utils.Selection import *\n",
    "from pyMSOO.utils.Search import * \n",
    "from pyMSOO.MFEA.benchmark.continous import *\n",
    "from pyMSOO.utils.MultiRun.RunMultiTime import * \n",
    "\n",
    "from pyMSOO.utils.EA import * \n",
    "from pyMSOO.MFEA.benchmark.continous.CEC17 import CEC17_benchmark \n",
    "from pyMSOO.MFEA.benchmark.continous.WCCI22 import WCCI22_benchmark\n",
    "from pyMSOO.MFEA.benchmark.continous.funcs import * \n",
    "\n",
    "from pyMSOO.utils.MultiRun.RunMultiTime import * \n",
    "from pyMSOO.utils.MultiRun.RunMultiBenchmark import * \n",
    "\n",
    "from pyMSOO.utils.LoadSaveModel.load_utils import loadModel, loadModelFromTxt\n",
    "from pyMSOO.utils.LoadSaveModel.save_utils import export_history2txt\n",
    "\n",
    "from pyMSOO.utils.numba_utils import *\n",
    "from pyMSOO.utils.Compare.compareModel import CompareModel\n",
    "\n",
    "import pandas as pd \n",
    "import numpy as np \n",
    "import os "
   ]
  },
  {
   "cell_type": "code",
   "execution_count": 3,
   "metadata": {},
   "outputs": [],
   "source": [
    "model = loadModel(\"RESULTS2/MFEA/WCCI22/WCCI22_bencmark_2.mso\", WCCI22_benchmark.get_50tasks_benchmark(2)[0])"
   ]
  },
  {
   "cell_type": "code",
   "execution_count": 15,
   "metadata": {},
   "outputs": [
    {
     "data": {
      "text/plain": [
       "[48710.97091311991,\n",
       " 6211.005170106956,\n",
       " 43673.84678732931,\n",
       " 20305.046716664034,\n",
       " 28452.380594551236,\n",
       " 28712.43660538863,\n",
       " 15801.727034102976,\n",
       " 64529.16343129358,\n",
       " 48068.5197789106,\n",
       " 6404.708386024841,\n",
       " 45920.529132308424,\n",
       " 18938.975423939377,\n",
       " 17740.963668770863,\n",
       " 59675.938844742064,\n",
       " 3142.424309331493,\n",
       " 26036.970240044473,\n",
       " 38855.62635894272,\n",
       " 49996.15690853615,\n",
       " 65765.12872647354,\n",
       " 8334.619530576292,\n",
       " 47283.10473325594,\n",
       " 47718.6299505221,\n",
       " 47947.403054881004,\n",
       " 46262.43873091797,\n",
       " 58457.59257039424,\n",
       " 12811.525449144649,\n",
       " 14629.516110253096,\n",
       " 32409.48802591197,\n",
       " 44325.06460725907,\n",
       " 49070.47656693695,\n",
       " 6174.744241995946,\n",
       " 45722.27853545959,\n",
       " 19473.226001443087,\n",
       " 32982.04859959759,\n",
       " 72248.73106937649,\n",
       " 82314.03954225121,\n",
       " 93536.73379776182,\n",
       " 19101.414992109163,\n",
       " 17668.93977994878,\n",
       " 61516.28536084103,\n",
       " 24425.30606929095,\n",
       " 83024.14674449424,\n",
       " 2176.448747275949,\n",
       " 133177.83303137647,\n",
       " 70767.47734924099,\n",
       " 28666.994414536322,\n",
       " 35087.01447047794,\n",
       " 6114.01990049976,\n",
       " 1997.9340719073364,\n",
       " 104865.4111842072]"
      ]
     },
     "execution_count": 15,
     "metadata": {},
     "output_type": "execute_result"
    }
   ],
   "source": [
    "(model.history_cost[-1].tolist())"
   ]
  },
  {
   "cell_type": "code",
   "execution_count": null,
   "metadata": {},
   "outputs": [],
   "source": []
  }
 ],
 "metadata": {
  "kernelspec": {
   "display_name": "pyMSOO",
   "language": "python",
   "name": "python3"
  },
  "language_info": {
   "codemirror_mode": {
    "name": "ipython",
    "version": 3
   },
   "file_extension": ".py",
   "mimetype": "text/x-python",
   "name": "python",
   "nbconvert_exporter": "python",
   "pygments_lexer": "ipython3",
   "version": "3.9.16"
  },
  "orig_nbformat": 4
 },
 "nbformat": 4,
 "nbformat_minor": 2
}
