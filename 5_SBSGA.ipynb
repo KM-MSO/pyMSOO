{
 "cells": [
  {
   "cell_type": "code",
   "execution_count": 1,
   "metadata": {},
   "outputs": [],
   "source": [
    "from pyMSOO.MFEA.model import SBSGA\n",
    "from pyMSOO.utils.Crossover import *\n",
    "from pyMSOO.utils.Mutation import *\n",
    "from pyMSOO.utils.Selection import *\n",
    "from pyMSOO.utils.DimensionAwareStrategy import *\n",
    "from pyMSOO.MFEA.benchmark.continous import *\n",
    "from pyMSOO.utils.MultiRun.RunMultiTime import * "
   ]
  },
  {
   "cell_type": "code",
   "execution_count": 3,
   "metadata": {},
   "outputs": [],
   "source": [
    "# tasks, IndClass = CEC17_benchmark.get_2tasks_benchmark(1)\n",
    "# tasks, IndClass = WCCI22_benchmark.get_complex_benchmark(1)\n",
    "tasks, IndClass = CEC17_benchmark.get_10tasks_benchmark()"
   ]
  },
  {
   "cell_type": "code",
   "execution_count": 4,
   "metadata": {},
   "outputs": [
    {
     "name": "stdout",
     "output_type": "stream",
     "text": [
      "Seed: None -- Time: 01m 34.59s  100 % [====================>]  Cost: 3.50E-06  5.89E-07  1.39E-16  0.00E+00  4.68E-04  1.90E-04  5.47E-07  6.38E-04  6.84E-14  3.98E+00  ,  \n",
      "END!\n"
     ]
    }
   ],
   "source": [
    "baseModel = SBsSGA.model()\n",
    "baseModel.compile(\n",
    "    IndClass= IndClass,\n",
    "    tasks= tasks,\n",
    "    # crossover = KL_SBXCrossover(nc= 2, k= 100, conf_thres= 1),\n",
    "    crossover= SBX_Crossover(nc = 2),\n",
    "    mutation= PolynomialMutation(nm = 5),\n",
    "    selection= ElitismSelection(),\n",
    "    dimension_strategy=DaS_strategy(eta= 3)\n",
    ")\n",
    "solve = baseModel.fit(\n",
    "    nb_generations = 1000, rmp = 0.5, nb_inds_each_task= 100, \n",
    "    bound_pop= [0, 1], evaluate_initial_skillFactor= True\n",
    ")"
   ]
  },
  {
   "attachments": {},
   "cell_type": "markdown",
   "metadata": {},
   "source": [
    "### MUltitime Model"
   ]
  },
  {
   "cell_type": "code",
   "execution_count": 26,
   "metadata": {},
   "outputs": [],
   "source": [
    "baseModel = MultiTimeModel(model= model)\n",
    "baseModel.compile(\n",
    "    IndClass= IndClass,\n",
    "    tasks= tasks,\n",
    "    # crossover = KL_SBXCrossover(nc= 2, k= 100, conf_thres= 1),\n",
    "    crossover= SBX_Crossover(nc = 2),\n",
    "    mutation= PolynomialMutation(nm = 5),\n",
    "    selection= ElitismSelection(),\n",
    "    dimension_strategy= NoDaS(),\n",
    ")\n",
    "solve = baseModel.fit(\n",
    "    nb_generations = 1000,nb_inds_each_task= 100, \n",
    "    bound_pop= [0, 1], evaluate_initial_skillFactor= True\n",
    ")"
   ]
  },
  {
   "cell_type": "code",
   "execution_count": 27,
   "metadata": {},
   "outputs": [
    {
     "name": "stdout",
     "output_type": "stream",
     "text": [
      "Seed: 0 -- Time: 01m 21.29s  100 % [====================>]  Cost: 1.92E-06  2.73E-07  1.79E-10  0.00E+00  2.59E-04  1.66E-04  1.68E-03  6.39E-04  3.48E-08  1.67E+01  ,  \n",
      "END!\n",
      "Seed: 1 -- Time: 01m 17.42s  100 % [====================>]  Cost: 1.91E-06  2.89E-07  1.78E-08  0.00E+00  2.51E-04  1.72E-04  7.43E-03  6.38E-04  4.25E-08  2.11E+01  ,  \n",
      "END!\n",
      "Seed: 2 -- Time: 01m 18.05s  100 % [====================>]  Cost: 1.10E-06  2.70E-07  1.96E-10  0.00E+00  1.64E-04  1.48E-04  2.02E-03  6.38E-04  2.52E-08  3.47E+01  ,  \n",
      "END!\n",
      "Seed: 3 -- Time: 01m 21.33s  100 % [====================>]  Cost: 2.84E-06  3.02E-07  1.18E-10  0.00E+00  4.72E-04  1.69E-04  1.61E-03  6.38E-04  4.23E-08  2.30E+01  ,  \n",
      "END!\n",
      "Seed: 4 -- Time: 01m 13.80s   92 % [==================> ]  Cost: 9.49E-06  1.69E-06  4.16E-09  0.00E+00  1.12E-03  3.76E-04  3.97E-03  6.49E-04  9.89E-08  2.15E+01  ,  "
     ]
    },
    {
     "name": "stderr",
     "output_type": "stream",
     "text": [
      "f:\\BTVN\\DSAI\\Optimization Lab\\pyMSOO\\pyMSOO\\utils\\MultiRun\\RunMultiTime.py:86: VisibleDeprecationWarning: Creating an ndarray from ragged nested sequences (which is a list-or-tuple of lists-or-tuples-or ndarrays with different lengths or shapes) is deprecated. If you meant to do this, you must specify 'dtype=object' when creating the ndarray.\n",
      "  result = np.array(result[:][:min([len(his) for his in result])][:])\n"
     ]
    },
    {
     "name": "stdout",
     "output_type": "stream",
     "text": [
      "functions : <generator object stream_list at 0x0000015A6ECA8900>, <class 'generator'> cannot saved in process_save_dict function\n",
      "attributes : <generator object stream_list at 0x0000015A6ECA8970>, <class 'generator'> cannot saved in process_save_dict function\n",
      "globals : <generator object stream_list at 0x0000015A6ECA89E0>, <class 'generator'> cannot saved in process_save_dict function\n",
      "functions : <generator object stream_list at 0x0000015A6ECA8A50>, <class 'generator'> cannot saved in process_save_dict function\n",
      "attributes : <generator object stream_list at 0x0000015A6ECA8AC0>, <class 'generator'> cannot saved in process_save_dict function\n",
      "globals : <generator object stream_list at 0x0000015A6ECA8B30>, <class 'generator'> cannot saved in process_save_dict function\n",
      "functions : <generator object stream_list at 0x0000015A6ECA8BA0>, <class 'generator'> cannot saved in process_save_dict function\n",
      "attributes : <generator object stream_list at 0x0000015A6ECA8C10>, <class 'generator'> cannot saved in process_save_dict function\n",
      "globals : <generator object stream_list at 0x0000015A6ECA8C80>, <class 'generator'> cannot saved in process_save_dict function\n",
      "functions : <generator object stream_list at 0x0000015A6ECA8CF0>, <class 'generator'> cannot saved in process_save_dict function\n",
      "attributes : <generator object stream_list at 0x0000015A6ECA8D60>, <class 'generator'> cannot saved in process_save_dict function\n",
      "globals : <generator object stream_list at 0x0000015A6ECA8DD0>, <class 'generator'> cannot saved in process_save_dict function\n",
      "functions : <generator object stream_list at 0x0000015A6ECA8E40>, <class 'generator'> cannot saved in process_save_dict function\n",
      "attributes : <generator object stream_list at 0x0000015A6ECA8EB0>, <class 'generator'> cannot saved in process_save_dict function\n",
      "globals : <generator object stream_list at 0x0000015A6ECA8F20>, <class 'generator'> cannot saved in process_save_dict function\n",
      "functions : <generator object stream_list at 0x0000015A6ECA8F90>, <class 'generator'> cannot saved in process_save_dict function\n",
      "attributes : <generator object stream_list at 0x0000015A73B94040>, <class 'generator'> cannot saved in process_save_dict function\n",
      "globals : <generator object stream_list at 0x0000015A73B940B0>, <class 'generator'> cannot saved in process_save_dict function\n",
      "functions : <generator object stream_list at 0x0000015A73B94120>, <class 'generator'> cannot saved in process_save_dict function\n",
      "attributes : <generator object stream_list at 0x0000015A73B94190>, <class 'generator'> cannot saved in process_save_dict function\n",
      "globals : <generator object stream_list at 0x0000015A73B94200>, <class 'generator'> cannot saved in process_save_dict function\n",
      "functions : <generator object stream_list at 0x0000015A73B94270>, <class 'generator'> cannot saved in process_save_dict function\n",
      "attributes : <generator object stream_list at 0x0000015A73B942E0>, <class 'generator'> cannot saved in process_save_dict function\n",
      "globals : <generator object stream_list at 0x0000015A73B94350>, <class 'generator'> cannot saved in process_save_dict function\n",
      "functions : <generator object stream_list at 0x0000015A73B943C0>, <class 'generator'> cannot saved in process_save_dict function\n",
      "attributes : <generator object stream_list at 0x0000015A73B94430>, <class 'generator'> cannot saved in process_save_dict function\n",
      "globals : <generator object stream_list at 0x0000015A73B944A0>, <class 'generator'> cannot saved in process_save_dict function\n",
      "functions : <generator object stream_list at 0x0000015A73BAB7B0>, <class 'generator'> cannot saved in process_save_dict function\n",
      "attributes : <generator object stream_list at 0x0000015A73BAB820>, <class 'generator'> cannot saved in process_save_dict function\n",
      "globals : <generator object stream_list at 0x0000015A73BAB890>, <class 'generator'> cannot saved in process_save_dict function\n",
      "functions : <generator object stream_list at 0x0000015A6ECA8900>, <class 'generator'> cannot saved in process_save_dict function\n",
      "attributes : <generator object stream_list at 0x0000015A6ECA8970>, <class 'generator'> cannot saved in process_save_dict function\n",
      "globals : <generator object stream_list at 0x0000015A6ECA89E0>, <class 'generator'> cannot saved in process_save_dict function\n",
      "functions : <generator object stream_list at 0x0000015A6ECA8A50>, <class 'generator'> cannot saved in process_save_dict function\n",
      "attributes : <generator object stream_list at 0x0000015A6ECA8AC0>, <class 'generator'> cannot saved in process_save_dict function\n",
      "globals : <generator object stream_list at 0x0000015A6ECA8B30>, <class 'generator'> cannot saved in process_save_dict function\n",
      "functions : <generator object stream_list at 0x0000015A6ECA8BA0>, <class 'generator'> cannot saved in process_save_dict function\n",
      "attributes : <generator object stream_list at 0x0000015A6ECA8C10>, <class 'generator'> cannot saved in process_save_dict function\n",
      "globals : <generator object stream_list at 0x0000015A6ECA8C80>, <class 'generator'> cannot saved in process_save_dict function\n",
      "functions : <generator object stream_list at 0x0000015A6ECA8CF0>, <class 'generator'> cannot saved in process_save_dict function\n",
      "attributes : <generator object stream_list at 0x0000015A6ECA8D60>, <class 'generator'> cannot saved in process_save_dict function\n",
      "globals : <generator object stream_list at 0x0000015A6ECA8DD0>, <class 'generator'> cannot saved in process_save_dict function\n",
      "functions : <generator object stream_list at 0x0000015A6ECA8E40>, <class 'generator'> cannot saved in process_save_dict function\n",
      "attributes : <generator object stream_list at 0x0000015A6ECA8EB0>, <class 'generator'> cannot saved in process_save_dict function\n",
      "globals : <generator object stream_list at 0x0000015A6ECA8F20>, <class 'generator'> cannot saved in process_save_dict function\n",
      "functions : <generator object stream_list at 0x0000015A6ECA8F90>, <class 'generator'> cannot saved in process_save_dict function\n",
      "attributes : <generator object stream_list at 0x0000015A73B94040>, <class 'generator'> cannot saved in process_save_dict function\n",
      "globals : <generator object stream_list at 0x0000015A73B940B0>, <class 'generator'> cannot saved in process_save_dict function\n",
      "functions : <generator object stream_list at 0x0000015A73B94120>, <class 'generator'> cannot saved in process_save_dict function\n",
      "attributes : <generator object stream_list at 0x0000015A73B94190>, <class 'generator'> cannot saved in process_save_dict function\n",
      "globals : <generator object stream_list at 0x0000015A73B94200>, <class 'generator'> cannot saved in process_save_dict function\n",
      "functions : <generator object stream_list at 0x0000015A73B94270>, <class 'generator'> cannot saved in process_save_dict function\n",
      "attributes : <generator object stream_list at 0x0000015A73B942E0>, <class 'generator'> cannot saved in process_save_dict function\n",
      "globals : <generator object stream_list at 0x0000015A73B94350>, <class 'generator'> cannot saved in process_save_dict function\n",
      "functions : <generator object stream_list at 0x0000015A73B943C0>, <class 'generator'> cannot saved in process_save_dict function\n",
      "attributes : <generator object stream_list at 0x0000015A73B94430>, <class 'generator'> cannot saved in process_save_dict function\n",
      "globals : <generator object stream_list at 0x0000015A73B944A0>, <class 'generator'> cannot saved in process_save_dict function\n",
      "functions : <generator object stream_list at 0x0000015A73BAB7B0>, <class 'generator'> cannot saved in process_save_dict function\n",
      "attributes : <generator object stream_list at 0x0000015A73BAB820>, <class 'generator'> cannot saved in process_save_dict function\n",
      "globals : <generator object stream_list at 0x0000015A73BAB890>, <class 'generator'> cannot saved in process_save_dict function\n"
     ]
    },
    {
     "ename": "",
     "evalue": "",
     "output_type": "error",
     "traceback": [
      "\u001b[1;31mThe Kernel crashed while executing code in the the current cell or a previous cell. Please review the code in the cell(s) to identify a possible cause of the failure. Click <a href='https://aka.ms/vscodeJupyterKernelCrash'>here</a> for more info. View Jupyter <a href='command:jupyter.viewOutput'>log</a> for further details."
     ]
    }
   ],
   "source": [
    "baseModel.run(\n",
    "    nb_run= 30,\n",
    "    # save_path= './RESULTS/MFEA_cec17.mso'\n",
    ")"
   ]
  },
  {
   "cell_type": "code",
   "execution_count": null,
   "metadata": {},
   "outputs": [],
   "source": []
  }
 ],
 "metadata": {
  "kernelspec": {
   "display_name": "MFEA",
   "language": "python",
   "name": "python3"
  },
  "language_info": {
   "codemirror_mode": {
    "name": "ipython",
    "version": 3
   },
   "file_extension": ".py",
   "mimetype": "text/x-python",
   "name": "python",
   "nbconvert_exporter": "python",
   "pygments_lexer": "ipython3",
   "version": "3.8.16"
  },
  "orig_nbformat": 4
 },
 "nbformat": 4,
 "nbformat_minor": 2
}
