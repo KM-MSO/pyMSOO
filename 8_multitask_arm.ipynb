{
 "cells": [
  {
   "cell_type": "code",
   "execution_count": 51,
   "metadata": {},
   "outputs": [],
   "source": [
    "from math import cos, pi, sin, sqrt\n",
    "from pathlib import Path\n",
    "from typing import Tuple, Type\n",
    "import os\n",
    "import time\n",
    "\n",
    "import numpy as np\n",
    "from numba import jit, njit\n",
    "import numba as nb\n",
    "from numba.typed import Dict, List\n",
    "from sklearn.cluster import KMeans\n",
    "\n",
    "from pyMSOO.utils.EA import AbstractTask, Individual\n",
    "from pyMSOO.MFEA.benchmark.continous.funcs import AbstractFunc\n",
    "from pyMSOO.MFEA.benchmark.continous.utils import Individual_func\n",
    "\n",
    "\n",
    "class MultiArmBenchmark():\n",
    "    def __init__(self, \n",
    "                 num_task = 10,\n",
    "                 dim_map = 2, \n",
    "                 dim = 10,\n",
    "                 samples = 30000, \n",
    "                 cvt_use_cache=True,\n",
    "                 save_dir = './Data') -> None:\n",
    "        \"\"\"This class create a new set of tasks for the robot arm problem\n",
    "\n",
    "        Args:\n",
    "            num_task (int, optional): Number of task. Defaults to 10.\n",
    "            dim_map (int, optional): The dimension of the problem. Defaults to 2.\n",
    "            dim (int, optional): The dimension of each individual. Defaults to 10.\n",
    "            samples (int, optional): Number of random samples. Defaults to 30000.\n",
    "            cvt_use_cache (bool, optional): Generate new datasets or not. Defaults to True.\n",
    "            save_dir (str, optional): Save directory. Defaults to './Data'.\n",
    "        \"\"\"\n",
    "\n",
    "        self.num_task = num_task\n",
    "        self.dim_map = dim_map\n",
    "        self.dim = dim\n",
    "        self.samples = samples\n",
    "        self.save_dir = save_dir\n",
    "        if not os.path.exists(save_dir):\n",
    "            os.makedirs(save_dir)\n",
    "            print(\"Directory created:\", save_dir)\n",
    "        else:\n",
    "            print(\"Directory already exists:\", save_dir)\n",
    "            \n",
    "        self.tasks = self.cvt()\n",
    "        self.cvt_use_cache = cvt_use_cache\n",
    "\n",
    "    def __centroids_filename(self, k, dim):\n",
    "        return 'centroids_' + str(k) + '_' + str(dim) + '.dat'\n",
    "\n",
    "    def __write_centroids(self, centroids):\n",
    "        k = centroids.shape[0]\n",
    "        dim = centroids.shape[1]\n",
    "        filename = os.path.join(self.save_dir, self.__centroids_filename(k, dim))\n",
    "        with open(filename, 'w') as f:\n",
    "            for p in centroids:\n",
    "                for item in p:\n",
    "                    f.write(str(item) + ' ')\n",
    "                f.write('\\n')\n",
    "\n",
    "    def cvt(self):\n",
    "        # check if we have cached values\n",
    "        cvt_use_cache = self.cvt_use_cache\n",
    "        fname = os.path.join(self.save_dir, self.__centroids_filename(self.num_task, self.dim_map))\n",
    "        \n",
    "        if cvt_use_cache:\n",
    "            if Path(fname).is_file():\n",
    "                print(\"WARNING: using cached CVT:\", fname)\n",
    "                return np.loadtxt(fname)\n",
    "        # otherwise, compute cvt\n",
    "        print(\"Computing CVT (this can take a while...):\", fname)\n",
    "\n",
    "        x = np.random.rand(self.samples, self.dim_map)\n",
    "        k_means = KMeans(init='k-means++', n_clusters=self.num_task,\n",
    "                        n_init=1, verbose=1)#,algorithm=\"full\")\n",
    "        k_means.fit(x)\n",
    "        self.__write_centroids(k_means.cluster_centers_)\n",
    "\n",
    "        return k_means.cluster_centers_\n",
    "\n",
    "    def getMultiTask(self)-> Tuple[List[AbstractFunc], Type[Individual_func]]:\n",
    "        tasks = [\n",
    "            Arm(self.dim, task[0], task[1], (0, 1)) for task in self.tasks\n",
    "        ]\n",
    "        return tasks, Individual_func\n",
    "\n",
    "\n",
    "class Arm(AbstractTask):\n",
    "    def __init__(self, dim: int, alpha_max: float, d: int, bound: tuple = None):\n",
    "        \"\"\"Robot arm problem\n",
    "\n",
    "        Args:\n",
    "            dim (int): The dimension of individual\n",
    "            alpha_max (float): The sum of maximum angle\n",
    "            d (int): The sum of arm length\n",
    "            bound (tuple, optional): Bound of gene. Defaults to None.\n",
    "        \"\"\"\n",
    "\n",
    "        self.dim = dim\n",
    "        self.bound = bound\n",
    "        self.angular_range = alpha_max/dim\n",
    "        self.d = d\n",
    "        self.lengths = np.ones(dim) * d / dim\n",
    "        self.lengths = np.concatenate(([0], self.lengths))\n",
    "\n",
    "    def fw_kinematics(self, p):\n",
    "        # ONLY USE THIS FUNCTION FOR TESTING PURPOSE\n",
    "        assert(len(p) == self.dim)\n",
    "        p = np.append(p, 0)\n",
    "        return self.__class__._func(self.dim, self.lengths, p)\n",
    "\n",
    "    # @staticmethod\n",
    "    @njit\n",
    "    def decode(x, angular_range):\n",
    "        x_decode = (x - 0.5) * angular_range * pi * 2\n",
    "        return x_decode\n",
    "    \n",
    "    @staticmethod\n",
    "    def _convert(x):\n",
    "        if isinstance(x, np.ndarray):\n",
    "            return x\n",
    "\n",
    "        if isinstance(x, Individual):\n",
    "            return x.genes\n",
    "\n",
    "        raise ValueError(\n",
    "            \"Wrong value type for input argument, expected 'List', 'np.ndarray' or 'Individual' but got {}\".format(type(x)))\n",
    "\n",
    "    def __call__(self, x):\n",
    "        x = self.__class__._convert(x)\n",
    "        x = self.__class__.decode(x, self.angular_range)\n",
    "        return self.func(x)\n",
    "    \n",
    "    def func(self, p: List):\n",
    "        assert(len(p) == self.dim)\n",
    "        p = np.append(p, 0)\n",
    "        y = self.__class__._func(self.dim, self.lengths, p)\n",
    "        target = 0.5 * np.ones(2)\n",
    "        f = np.linalg.norm(y - target)\n",
    "        return f\n",
    "    \n",
    "    # @staticmethod\n",
    "    @njit\n",
    "    def _func(dim, lengths, p):\n",
    "        def dot_py(A,B):\n",
    "            m, n = A.shape\n",
    "            p = B.shape[1]\n",
    "\n",
    "            C = np.zeros((m,p))\n",
    "\n",
    "            for i in range(0,m):\n",
    "                for j in range(0,p):\n",
    "                    for k in range(0,n):\n",
    "                        C[i,j] += A[i,k]*B[k,j] \n",
    "            return C\n",
    "        \n",
    "        mat = np.identity(4)\n",
    "        for i in range(0, dim + 1):   \n",
    "            m = np.array([cos(p[i]), -sin(p[i]), 0, lengths[i], \\\n",
    "                         sin(p[i]),  cos(p[i]), 0, 0, \\\n",
    "                         0, 0, 1, 0, 0, 0, 0, 1])\n",
    "            m = m.reshape((4, 4))\n",
    "            mat = dot_py(mat, m)\n",
    "            v = dot_py(mat, np.array([0, 0, 0, 1]).reshape((4, 1)))\n",
    "            # mat = np.dot(mat, m)\n",
    "            # v = np.dot(mat, np.array([0.0, 0.0, 0.0, 1.0]).reshape((4, 1)))\n",
    "        return [v[0][0], v[0][1]]"
   ]
  },
  {
   "cell_type": "code",
   "execution_count": 88,
   "metadata": {},
   "outputs": [
    {
     "name": "stdout",
     "output_type": "stream",
     "text": [
      "Directory already exists: Data\n",
      "Computing CVT (this can take a while...): Data\\centroids_10_2.dat\n",
      "Initialization complete\n",
      "Iteration 0, inertia 629.2010650444147.\n",
      "Iteration 1, inertia 548.7360350372272.\n",
      "Iteration 2, inertia 535.5912964289892.\n",
      "Iteration 3, inertia 529.6463825700004.\n",
      "Iteration 4, inertia 525.6610337758802.\n",
      "Iteration 5, inertia 522.7768368562486.\n",
      "Iteration 6, inertia 520.4672127225815.\n",
      "Iteration 7, inertia 518.6352043445901.\n",
      "Iteration 8, inertia 517.1205801011884.\n",
      "Iteration 9, inertia 515.8202525469528.\n",
      "Iteration 10, inertia 514.8411256441241.\n",
      "Iteration 11, inertia 514.0823479491811.\n",
      "Iteration 12, inertia 513.5190761220612.\n",
      "Iteration 13, inertia 513.110949993557.\n",
      "Iteration 14, inertia 512.7600044161222.\n",
      "Iteration 15, inertia 512.4912541282258.\n",
      "Iteration 16, inertia 512.2489145799607.\n",
      "Iteration 17, inertia 512.0342048690444.\n",
      "Iteration 18, inertia 511.8585831820556.\n",
      "Iteration 19, inertia 511.7030033943493.\n",
      "Iteration 20, inertia 511.5302364140226.\n",
      "Iteration 21, inertia 511.3899683964963.\n",
      "Iteration 22, inertia 511.26740930611925.\n",
      "Iteration 23, inertia 511.11519178863443.\n",
      "Iteration 24, inertia 510.9263791403173.\n",
      "Iteration 25, inertia 510.75574132078896.\n",
      "Iteration 26, inertia 510.6144002211665.\n",
      "Iteration 27, inertia 510.4883579814914.\n",
      "Iteration 28, inertia 510.37032607482723.\n",
      "Iteration 29, inertia 510.23520524546706.\n",
      "Iteration 30, inertia 510.09376127344456.\n",
      "Iteration 31, inertia 509.9441455997511.\n",
      "Iteration 32, inertia 509.8262484924842.\n",
      "Iteration 33, inertia 509.7144215639191.\n",
      "Iteration 34, inertia 509.6308900864238.\n",
      "Iteration 35, inertia 509.57220040014136.\n",
      "Iteration 36, inertia 509.5173728382246.\n",
      "Iteration 37, inertia 509.46515149191555.\n",
      "Iteration 38, inertia 509.4090925055222.\n",
      "Iteration 39, inertia 509.3598442920767.\n",
      "Iteration 40, inertia 509.3086940982423.\n",
      "Converged at iteration 40: center shift 7.743264497767764e-06 within tolerance 8.335293341914487e-06.\n"
     ]
    }
   ],
   "source": [
    "tasks, IndClass = MultiArmBenchmark(num_task=10, save_dir=\"Data\", cvt_use_cache=False).getMultiTask()"
   ]
  },
  {
   "cell_type": "code",
   "execution_count": 89,
   "metadata": {},
   "outputs": [],
   "source": [
    "a = [0.4] * 10"
   ]
  },
  {
   "cell_type": "code",
   "execution_count": 90,
   "metadata": {},
   "outputs": [
    {
     "data": {
      "text/plain": [
       "0.746217839345604"
      ]
     },
     "execution_count": 90,
     "metadata": {},
     "output_type": "execute_result"
    }
   ],
   "source": [
    "tasks[0](np.array(a))"
   ]
  },
  {
   "cell_type": "code",
   "execution_count": 91,
   "metadata": {},
   "outputs": [],
   "source": [
    "# 1-DOFs\n",
    "a = Arm(dim = 1, alpha_max=1, d=1, bound=(0, 1))\n",
    "v = a.fw_kinematics(np.array([0]))\n",
    "np.testing.assert_almost_equal(v, [1, 0])\n",
    "v = a.fw_kinematics(np.array([pi/2]))\n",
    "np.testing.assert_almost_equal(v, [0, 1])\n",
    "\n",
    "# 2-DOFs\n",
    "a = Arm(dim = 2, alpha_max=1, d=2, bound=(0, 1))\n",
    "v = a.fw_kinematics([0, 0])\n",
    "np.testing.assert_almost_equal(v, [2, 0])\n",
    "v = a.fw_kinematics([pi/2, 0])\n",
    "np.testing.assert_almost_equal(v, [0, 2])\n",
    "v = a.fw_kinematics([pi/2, pi/2])\n",
    "np.testing.assert_almost_equal(v, [-1, 1])\n",
    "v = a.fw_kinematics([pi/4, -pi/2])\n",
    "np.testing.assert_almost_equal(v, [sqrt(2), 0])\n",
    "\n",
    "# a 4-DOF square\n",
    "a = Arm(dim = 4, alpha_max=1, d=4, bound=(0, 1))\n",
    "v = a.fw_kinematics([3*pi/4, pi/2, pi/2, pi/2])\n",
    "np.testing.assert_almost_equal(v, [0, 0])"
   ]
  },
  {
   "cell_type": "code",
   "execution_count": 1,
   "metadata": {},
   "outputs": [],
   "source": [
    "from pyMSOO.MFEA.model import MFEA_base\n",
    "from pyMSOO.utils.Crossover import *\n",
    "from pyMSOO.utils.Mutation import *\n",
    "from pyMSOO.utils.Selection import *\n",
    "from pyMSOO.MFEA.benchmark.continous import *\n",
    "from pyMSOO.utils.MultiRun.RunMultiTime import * "
   ]
  },
  {
   "cell_type": "code",
   "execution_count": 4,
   "metadata": {},
   "outputs": [
    {
     "name": "stdout",
     "output_type": "stream",
     "text": [
      "Directory already exists: Data\n",
      "WARNING: using cached CVT: Data\\centroids_10_2.dat\n"
     ]
    }
   ],
   "source": [
    "from pyMSOO.MFEA.benchmark.continous import MultiArmBenchmark\n",
    "\n",
    "tasks, IndClass = MultiArmBenchmark(num_task=10, save_dir=\"Data\", cvt_use_cache=True).getMultiTask()"
   ]
  },
  {
   "cell_type": "code",
   "execution_count": 5,
   "metadata": {},
   "outputs": [
    {
     "name": "stdout",
     "output_type": "stream",
     "text": [
      "Seed: None -- Time: 01m 13.09s  100 % [====================>]  Cost: 3.69E-01  5.72E-01  1.20E-01  3.94E-01  9.13E-08  3.57E-01  2.36E-01  7.93E-02  5.71E-01  5.48E-01  ,  \n",
      "END!\n"
     ]
    }
   ],
   "source": [
    "baseModel = MFEA_base.model()\n",
    "baseModel.compile(\n",
    "    IndClass= IndClass,\n",
    "    tasks= tasks,\n",
    "    # crossover = KL_SBXCrossover(nc= 2, k= 100, conf_thres= 1),\n",
    "    crossover= SBX_Crossover(nc = 2),\n",
    "    mutation= PolynomialMutation(nm = 5),\n",
    "    selection= ElitismSelection()\n",
    ")\n",
    "solve = baseModel.fit(\n",
    "    nb_generations = 1000, rmp = 0.3, nb_inds_each_task= 100, \n",
    "    bound_pop= [0, 1], evaluate_initial_skillFactor= True\n",
    ")"
   ]
  },
  {
   "cell_type": "code",
   "execution_count": 6,
   "metadata": {},
   "outputs": [],
   "source": [
    "x = baseModel.history_cost[-1]"
   ]
  },
  {
   "cell_type": "code",
   "execution_count": 7,
   "metadata": {},
   "outputs": [
    {
     "name": "stdout",
     "output_type": "stream",
     "text": [
      "Seed: None -- Time: 01m 36.50s  100 % [====================>]  Pop_size: 1.90E+02  ,  Cost: 3.69E-01  5.72E-01  1.20E-01  3.94E-01  0.00E+00  3.57E-01  2.36E-01  7.93E-02  5.71E-01  5.48E-01  ,  \n",
      "[0.1 0.1 0.1 0.1 0.1 0.1 0.1 0.1 0.1 0.1]\n",
      "[99996, 100088, 100334, 100142, 100138, 99294, 99740, 99876, 100594, 99828]\n",
      "END!\n"
     ]
    }
   ],
   "source": [
    "from pyMSOO.MFEA.model import SM_MFEA\n",
    "from pyMSOO.utils.Crossover import *\n",
    "from pyMSOO.utils.Mutation import *\n",
    "from pyMSOO.utils.Selection import *\n",
    "from pyMSOO.utils.Search.DifferentialEvolution import *\n",
    "from pyMSOO.MFEA.benchmark.continous import *\n",
    "from pyMSOO.utils.MultiRun.RunMultiTime import * \n",
    "\n",
    "baseModel = SM_MFEA.model()\n",
    "baseModel.compile(\n",
    "    IndClass= IndClass,\n",
    "    tasks= tasks,\n",
    "    crossover = DaS_SBX_Crossover(nc= 2, eta= 0.001, conf_thres= 1),\n",
    "    # crossover = SBX_Crossover(nc = 2),\n",
    "    mutation = PolynomialMutation(nm = 5, pm= 1),\n",
    "    selection= ElitismSelection(random_percent= 0.1),\n",
    "    search= L_SHADE(len_mem= 15),\n",
    "    attr_tasks = ['crossover', 'mutation', 'search'],\n",
    ")\n",
    "solve = baseModel.fit(\n",
    "    nb_generations= 1000, nb_inds_each_task= 100, nb_inds_min= 20,\n",
    "    lr = 0.1, p_const_intra= 0., prob_search = 0., lc_nums = 200,\n",
    "    nb_epochs_stop= 1000, swap_po= False,\n",
    "    evaluate_initial_skillFactor= True\n",
    ")"
   ]
  },
  {
   "cell_type": "code",
   "execution_count": 8,
   "metadata": {},
   "outputs": [
    {
     "data": {
      "text/plain": [
       "[0.369271725246802,\n",
       " 0.5715278997229594,\n",
       " 0.12045006780925734,\n",
       " 0.394175159150768,\n",
       " 9.134755659935667e-08,\n",
       " 0.3568361548740225,\n",
       " 0.2358874699234273,\n",
       " 0.07930842369600759,\n",
       " 0.5714774062951145,\n",
       " 0.5482566704999147]"
      ]
     },
     "execution_count": 8,
     "metadata": {},
     "output_type": "execute_result"
    }
   ],
   "source": [
    "x"
   ]
  },
  {
   "cell_type": "code",
   "execution_count": 9,
   "metadata": {},
   "outputs": [
    {
     "data": {
      "text/plain": [
       "[0.369271725246802,\n",
       " 0.571527897017238,\n",
       " 0.1204500299559136,\n",
       " 0.394175159150768,\n",
       " 0.0,\n",
       " 0.3568361547139353,\n",
       " 0.2358874374338936,\n",
       " 0.07930842369600731,\n",
       " 0.5714774062951145,\n",
       " 0.548256647258801]"
      ]
     },
     "execution_count": 9,
     "metadata": {},
     "output_type": "execute_result"
    }
   ],
   "source": [
    "baseModel.history_cost[-1]"
   ]
  },
  {
   "cell_type": "code",
   "execution_count": 10,
   "metadata": {},
   "outputs": [
    {
     "name": "stdout",
     "output_type": "stream",
     "text": [
      "7\n",
      "3\n"
     ]
    }
   ],
   "source": [
    "print(sum(np.array(baseModel.history_cost[-1]) < np.array(x)))\n",
    "print(sum(np.array(baseModel.history_cost[-1]) == np.array(x)))"
   ]
  },
  {
   "cell_type": "code",
   "execution_count": 11,
   "metadata": {},
   "outputs": [],
   "source": [
    "baseModel = MultiTimeModel(model= MFEA_base)\n",
    "baseModel.compile(\n",
    "    IndClass= IndClass,\n",
    "    tasks= tasks,\n",
    "    crossover= SBX_Crossover(nc = 2),\n",
    "    mutation= PolynomialMutation(nm = 5),\n",
    "    selection= ElitismSelection()\n",
    ")\n",
    "baseModel.fit(\n",
    "    nb_generations = 1000, rmp = 0.3, nb_inds_each_task= 100, \n",
    "    bound_pop= [0, 1], evaluate_initial_skillFactor= True\n",
    ")"
   ]
  },
  {
   "cell_type": "code",
   "execution_count": 12,
   "metadata": {},
   "outputs": [
    {
     "name": "stdout",
     "output_type": "stream",
     "text": [
      "Seed: 0 -- Time: 01m 14.81s  100 % [====================>]  Cost: 3.69E-01  5.72E-01  1.20E-01  3.94E-01  5.80E-08  3.57E-01  2.36E-01  7.93E-02  5.71E-01  5.48E-01  ,  \n",
      "END!\n",
      "DONE!\n",
      "Saved\n"
     ]
    }
   ],
   "source": [
    "baseModel.run(\n",
    "    nb_run= 1,\n",
    "    save_path= './RESULTS/MFEA_robot.mso'\n",
    ")"
   ]
  },
  {
   "cell_type": "code",
   "execution_count": 13,
   "metadata": {},
   "outputs": [],
   "source": [
    "from pyMSOO.utils.LoadSaveModel.load_utils import loadModel\n",
    "\n",
    "baseModel = loadModel('./RESULTS/MFEA_robot.mso', ls_tasks= tasks, set_attribute= True)"
   ]
  },
  {
   "cell_type": "code",
   "execution_count": null,
   "metadata": {},
   "outputs": [],
   "source": []
  }
 ],
 "metadata": {
  "kernelspec": {
   "display_name": "MFEA",
   "language": "python",
   "name": "python3"
  },
  "language_info": {
   "codemirror_mode": {
    "name": "ipython",
    "version": 3
   },
   "file_extension": ".py",
   "mimetype": "text/x-python",
   "name": "python",
   "nbconvert_exporter": "python",
   "pygments_lexer": "ipython3",
   "version": "3.8.16"
  },
  "orig_nbformat": 4
 },
 "nbformat": 4,
 "nbformat_minor": 2
}
