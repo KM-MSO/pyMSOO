{
 "cells": [
  {
   "cell_type": "code",
   "execution_count": 1,
   "metadata": {},
   "outputs": [],
   "source": [
    "from pyMSOO.MFEA.model import MaTGA\n",
    "from pyMSOO.utils.Crossover import *\n",
    "from pyMSOO.utils.Mutation import *\n",
    "from pyMSOO.utils.Selection import *\n",
    "from pyMSOO.utils.DimensionAwareStrategy import *\n",
    "from pyMSOO.MFEA.benchmark.continous import *\n",
    "from pyMSOO.utils.MultiRun.RunMultiTime import * "
   ]
  },
  {
   "attachments": {},
   "cell_type": "markdown",
   "metadata": {},
   "source": [
    "#### Benchmark"
   ]
  },
  {
   "attachments": {},
   "cell_type": "markdown",
   "metadata": {},
   "source": [
    "##### CEC17"
   ]
  },
  {
   "cell_type": "code",
   "execution_count": 2,
   "metadata": {},
   "outputs": [],
   "source": [
    "# tasks, IndClass = CEC17_benchmark.get_2tasks_benchmark(1)\n",
    "# tasks, IndClass = WCCI22_benchmark.get_complex_benchmark(10)\n",
    "tasks, IndClass = CEC17_benchmark.get_10tasks_benchmark()\n",
    "# tasks, IndClass = WCCI22_benchmark.get_50tasks_benchmark(10)"
   ]
  },
  {
   "cell_type": "code",
   "execution_count": 6,
   "metadata": {},
   "outputs": [],
   "source": [
    "from pyMSOO.utils.numba_utils import *\n",
    "from pyMSOO.utils import Crossover, Mutation, DimensionAwareStrategy, Selection\n",
    "import random\n",
    "import copy\n",
    "\n",
    "class model(AbstractModel.model):\n",
    "    '''\n",
    "    An Adaptive Archive-Based Evolutionary Framework for Many-Task Optimization.\n",
    "    '''\n",
    "    def compile(self, \n",
    "                IndClass: Type[Individual], \n",
    "                tasks: List[AbstractTask], \n",
    "                crossover: Crossover.AbstractCrossover, \n",
    "                mutation: Mutation.AbstractMutation, \n",
    "                selection: Selection.AbstractSelection, \n",
    "                dimension_strategy: DimensionAwareStrategy.AbstractDaS = DimensionAwareStrategy.NoDaS(),\n",
    "                *args, \n",
    "                **kwargs):\n",
    "        super().compile(IndClass, tasks, crossover, mutation, dimension_strategy, selection, *args, **kwargs)\n",
    "        \n",
    "    def fit(self, \n",
    "            nb_generations, \n",
    "            rmp = 0.1, \n",
    "            nb_inds_each_task = 100, \n",
    "            ro = 0.8,\n",
    "            shrink_rate = 0.8,\n",
    "            max_archive_size = 300,\n",
    "            replace_rate = 0.2,\n",
    "            evaluate_initial_skillFactor = True, \n",
    "            *args, \n",
    "            **kwargs) -> List[Individual]:\n",
    "        '''\n",
    "        Arguments include:\\n\n",
    "        + `nb_generations`: number of generations\n",
    "        + `rmp`: random mating probability\n",
    "        + `nb_inds_tasks`: number of individual per task; nb_inds_tasks[i] = num individual of task i\n",
    "        + `ro`: \n",
    "        + `shrink_rate`: \n",
    "        + `max_archive_size`: maximum size of each archive population\n",
    "        + `replace_rate`: \n",
    "        + `evaluate_initial_skillFactor`:\n",
    "            + if True: individuals are initialized with skill factor most fitness with them\n",
    "            + else: randomize skill factors for individuals\n",
    "        '''\n",
    "\n",
    "        super().fit(*args, **kwargs)\n",
    "        \n",
    "        assert max_archive_size >= nb_inds_each_task\n",
    "\n",
    "        self.max_archive_size = max_archive_size\n",
    "        self.nb_inds_each_task = nb_inds_each_task\n",
    "        self.replace_rate = replace_rate\n",
    "        self.ro = ro\n",
    "        \n",
    "        # Initial population\n",
    "        self.population = Population(\n",
    "            self.IndClass,\n",
    "            nb_inds_tasks = [nb_inds_each_task] * len(self.tasks), \n",
    "            dim = self.dim_uss,\n",
    "            list_tasks = self.tasks,\n",
    "            evaluate_initial_skillFactor = evaluate_initial_skillFactor\n",
    "        )\n",
    "\n",
    "        # Initial archive population\n",
    "        self.archive_size = [nb_inds_each_task] * len(self.tasks)\n",
    "        self.archive_population: List[SubPopulation] = [SubPopulation(self.IndClass, skill_factor=i, dim=self.dim_uss, num_inds=nb_inds_each_task, task=task) \\\n",
    "                                                        for i, task in enumerate(self.tasks)]\n",
    "\n",
    "        # Update initial archives\n",
    "        self.update_archives(init=True)\n",
    "        \n",
    "        # save history\n",
    "        self.history_cost.append([ind.fcost for ind in self.population.get_solves()])\n",
    "        \n",
    "        self.render_process(0, ['Cost'], [self.history_cost[-1]], use_sys = True)\n",
    "        \n",
    "        # Reward\n",
    "        self.R = np.ones((len(self.tasks), len(self.tasks)))\n",
    "\n",
    "        # Roulette wheel probability\n",
    "        self.probability = np.zeros((len(self.tasks), len(self.tasks)))\n",
    "\n",
    "        for epoch in range(nb_generations):\n",
    "            \n",
    "            for t in range(len(self.tasks)):\n",
    "                \n",
    "                if (random.random() > rmp): \n",
    "                    # Intra-task transfer\n",
    "\n",
    "                    # initial offspring_population of generation\n",
    "                    offsprings = Population(\n",
    "                        self.IndClass,\n",
    "                        nb_inds_tasks = [0] * len(self.tasks), \n",
    "                        dim = self.dim_uss,\n",
    "                        list_tasks= self.tasks,\n",
    "                    )\n",
    "\n",
    "                    # update operators\n",
    "                    self.crossover.update(population = self.population)\n",
    "                    self.mutation.update(population = self.population)\n",
    "\n",
    "                    for i in range(int(nb_inds_each_task/2)):\n",
    "                        pa, pb = self.population[t].__getRandomItems__(2)\n",
    "\n",
    "                        oa, ob = self.crossover(pa, pb, t, t)\n",
    "                        u = np.where(np.random.random() < 0.9)[0]\n",
    "                        oa.genes[u] = pa.genes[u]\n",
    "                        ob.genes[u] = pb.genes[u] \n",
    "\n",
    "                        # mutate\n",
    "                        oa = self.mutation(oa, return_newInd = True)\n",
    "                        oa.skill_factor = t\n",
    "\n",
    "                        ob = self.mutation(ob, return_newInd = True)    \n",
    "                        ob.skill_factor = t\n",
    "\n",
    "                        offsprings.__addIndividual__(oa)\n",
    "                        offsprings.__addIndividual__(ob)\n",
    "\n",
    "                    self.population = self.population + offsprings\n",
    "\n",
    "                    # Update rank\n",
    "                    self.population.update_rank()\n",
    "\n",
    "                    # selection\n",
    "                    self.selection(self.population, [nb_inds_each_task] * len(self.tasks))\n",
    "                \n",
    "                else:\n",
    "                    # Inter-task transfer\n",
    "                    \n",
    "                    # Find the most assisting task \n",
    "                    t_j = self.adaptive_choose(t)\n",
    "\n",
    "                    assert t_j != t, \"Something wrong\"\n",
    "\n",
    "                    s = self.population[t].__getBestIndividual__.fcost\n",
    "                    tmpS = s\n",
    "\n",
    "                    for i in range(len(self.population[t])):\n",
    "                        genes = self.population[t][i].genes.copy()\n",
    "\n",
    "                        k = random.randint(0, self.dim_uss - 1)\n",
    "                        r1 = numba_randomchoice(len(self.population[t_j]))\n",
    "                        \n",
    "                        idx = np.where(np.random.rand(self.dim_uss) < 0.9)[0]\n",
    "                        \n",
    "                        genes[idx] = self.population[t_j][r1].genes[idx].copy()\n",
    "                        genes[k] = self.population[t_j][r1].genes[k].copy()\n",
    "                        \n",
    "                        off = self.dimension_strategy(self.IndClass(genes=genes, skill_factor=t), t_j, self.population[t][i])\n",
    "                        fcost = self.tasks[t](off)\n",
    "                        off.fcost = fcost\n",
    "                        tmpS = min(tmpS, fcost)\n",
    "                        \n",
    "                        if (fcost < self.population[t][i].fcost):\n",
    "                            # off = self.IndClass(genes = genes, skill_factor = t, fcost=fitness)\n",
    "                            # off.skill_factor = t\n",
    "                            # off.fcost = fitness\n",
    "                            self.population[t][i] = off\n",
    "                            \n",
    "                    if (tmpS < s):\n",
    "                        self.R[t][t_j] /= shrink_rate\n",
    "                    else:\n",
    "                        self.R[t][t_j] *= shrink_rate\n",
    "            \n",
    "            # Update rank\n",
    "            self.population.update_rank()\n",
    "\n",
    "            # Update archive population\n",
    "            self.update_archives()\n",
    "\n",
    "            # Update strategy\n",
    "            self.dimension_strategy.update(population = self.population)\n",
    "\n",
    "            # save history\n",
    "            self.history_cost.append([ind.fcost for ind in self.population.get_solves()])\n",
    "\n",
    "            #print\n",
    "            self.render_process((epoch+1)/nb_generations, ['Cost'], [self.history_cost[-1]], use_sys= True)\n",
    "        print('\\nEND!')\n",
    "        \n",
    "        #solve\n",
    "        self.last_pop = self.population\n",
    "        return self.last_pop.get_solves() \n",
    "\n",
    "    def update_archives(self, init = True):\n",
    "        '''\n",
    "        Update every archive population\n",
    "        '''\n",
    "\n",
    "        if init == True:\n",
    "            for t in range(len(self.tasks)):\n",
    "                self.archive_population[t] = copy.copy(self.population[t])\n",
    "        else:\n",
    "            for t in range(len(self.tasks)):\n",
    "                self.update_archive(t)\n",
    "    \n",
    "    def update_archive(self, task):\n",
    "        '''\n",
    "        Update one archive population\n",
    "        '''\n",
    "        \n",
    "        remain_size = self.max_archive_size - self.archive_size[task]\n",
    "        u = np.random.rand(self.nb_inds_each_task)\n",
    "        idx = np.where(u < self.replace_rate)[0]\n",
    "        \n",
    "        assert len(self.archive_population[task]) == self.archive_size[task], \"Wrong shape, got {} and {}\".format(len(self.archive_population[task]), self.archive_size[task])\n",
    "\n",
    "        if len(idx) <= remain_size:\n",
    "            self.archive_population[task] += copy.copy(self.population[task][idx])\n",
    "            self.archive_size[task] += len(idx)\n",
    "        else:\n",
    "            self.archive_population[task] += copy.copy(self.population[task][idx[:remain_size]])\n",
    "            r = np.random.randint(0, self.max_archive_size, size = len(idx) - remain_size).tolist()\n",
    "            self.archive_population[task][r] = copy.copy(self.population[task][idx[remain_size:]])\n",
    "            self.archive_size[task] = self.max_archive_size\n",
    "\n",
    "        assert len(self.archive_population[task]) == self.archive_size[task], \"Wrong shape, got {} and {}\".format(len(self.archive_population[task]), self.archive_size[task])\n",
    "    \n",
    "    def adaptive_choose(self, task):\n",
    "        \"\"\"\n",
    "        Adaptively choose another task\n",
    "        \"\"\"\n",
    "\n",
    "        # The similarity vector\n",
    "        sim_vec = np.array([self.find_sim(task, i) for i in range(len(self.tasks))])\n",
    "\n",
    "        self.probability[task] = self.ro * self.probability[task] + self.R[task]/(1 + np.log(1 + sim_vec))\n",
    "\n",
    "        self.probability[task][task] = 0\n",
    "\n",
    "        return numba_randomchoice_w_prob(self.probability[task]/sum(self.probability[task]))\n",
    "    \n",
    "    def find_sim(self, task_a, task_b):\n",
    "        \"\"\"\n",
    "        Find similarity score\n",
    "        \"\"\"\n",
    "\n",
    "        if (task_a == task_b):\n",
    "            return 0\n",
    "        \n",
    "        subPop_a: SubPopulation = self.archive_population[task_a]\n",
    "        subPop_b: SubPopulation = self.archive_population[task_b]\n",
    "        D = min(self.tasks[task_a].dim, self.tasks[task_b].dim)\n",
    "\n",
    "        genes_a = np.array([ind.genes[:D] for ind in subPop_a])\n",
    "        genes_b = np.array([ind.genes[:D] for ind in subPop_b])\n",
    "        \n",
    "        similarity = self.KLD(genes_a, genes_b)\n",
    "        # assert not np.isnan(similarity)\n",
    "        if np.isnan(similarity):\n",
    "            similarity = 0\n",
    "            \n",
    "        return similarity\n",
    "\n",
    "    def KLD(self, genes_a, genes_b):\n",
    "        \"\"\"\n",
    "        Find KLD(archive_a, archive_b)\n",
    "        \"\"\"\n",
    "        \n",
    "        gene_cov_a, gene_mean_a = np.cov(genes_a, rowvar = False), np.mean(genes_a, axis = 0)\n",
    "        gene_cov_b, gene_mean_b = np.cov(genes_b, rowvar = False), np.mean(genes_b, axis = 0)\n",
    "\n",
    "        assert gene_cov_b.shape[1] == gene_cov_a.shape[0], \"imcompatible shape. Got {} and {}\".format(gene_cov_b.shape, gene_cov_a.shape)\n",
    "\n",
    "        inv_gene_cov_b = numba_linalgo_pinv(gene_cov_b)\n",
    "        inv_gene_cov_a = numba_linalgo_pinv(gene_cov_a)\n",
    "\n",
    "        D = gene_cov_a.shape[0]\n",
    "        try:\n",
    "            det_b = max(numba_linalgo_det(gene_cov_b), 0.001)\n",
    "        except:\n",
    "            det_b = 1e-6\n",
    "        try:\n",
    "            det_a = max(numba_linalgo_det(gene_cov_a), 0.001)\n",
    "        except:\n",
    "            det_a = 1e-6\n",
    "        \n",
    "        if np.isnan(det_b):\n",
    "            det_b = 1e-6\n",
    "\n",
    "        if np.isnan(det_a):\n",
    "            det_a = 1e-6\n",
    "\n",
    "        kld_a_b = np.trace(numba_dot(inv_gene_cov_b, gene_cov_a)) \\\n",
    "                + numba_dot(numba_dot(np.transpose(gene_mean_b - gene_mean_a), inv_gene_cov_b), (gene_mean_b - gene_mean_a)) - D\\\n",
    "                + np.log(det_b/det_a)\n",
    "        \n",
    "        kld_b_a = np.trace(numba_dot(inv_gene_cov_a, gene_cov_b)) \\\n",
    "                + numba_dot(numba_dot(np.transpose(gene_mean_a - gene_mean_b), inv_gene_cov_a), (gene_mean_a - gene_mean_b)) - D\\\n",
    "                + np.log(det_a/det_b)\n",
    "\n",
    "        return 0.5 * (np.abs(0.5 * kld_a_b) + np.abs(0.5 * kld_b_a))"
   ]
  },
  {
   "cell_type": "code",
   "execution_count": 9,
   "metadata": {},
   "outputs": [
    {
     "name": "stdout",
     "output_type": "stream",
     "text": [
      "Seed: None -- Time: 03m 7.72s  100 % [====================>]  Cost: 3.63E-06  1.21E-06  7.16E-07  5.36E-12  6.25E-04  2.80E-04  4.64E-03  1.51E-03  1.80E-04  1.75E+01  ,  \n",
      "END!\n"
     ]
    }
   ],
   "source": [
    "baseModel = model()\n",
    "baseModel.compile(\n",
    "    IndClass= IndClass,\n",
    "    tasks= tasks,\n",
    "    # crossover = KL_SBXCrossover(nc= 2, k= 100, conf_thres= 1),\n",
    "    crossover= SBX_Crossover(nc = 2),\n",
    "    mutation= PolynomialMutation(nm = 5),\n",
    "    selection= ElitismSelection(),\n",
    "    # dimension_strategy=DaS_strategy(eta= 3)\n",
    ")\n",
    "solve = baseModel.fit(\n",
    "    nb_generations = 1000, rmp = 0.1, nb_inds_each_task= 100, \n",
    "    bound_pop= [0, 1], evaluate_initial_skillFactor= True\n",
    ")"
   ]
  },
  {
   "attachments": {},
   "cell_type": "markdown",
   "metadata": {},
   "source": [
    "### Multitime model"
   ]
  },
  {
   "cell_type": "code",
   "execution_count": 4,
   "metadata": {},
   "outputs": [],
   "source": [
    "baseModel = MultiTimeModel(model= MaTGA)\n",
    "baseModel.compile(\n",
    "    IndClass= IndClass,\n",
    "    tasks= tasks,\n",
    "    crossover= SBX_Crossover(nc = 2),\n",
    "    mutation= PolynomialMutation(nm = 5),\n",
    "    selection= ElitismSelection(),\n",
    "    dimension_strategy=DaS_strategy(eta= 3)\n",
    ")\n",
    "baseModel.fit(\n",
    "    nb_generations = 1000, rmp = 0.1, nb_inds_each_task= 100, \n",
    "    bound_pop= [0, 1], evaluate_initial_skillFactor= True\n",
    ")"
   ]
  },
  {
   "cell_type": "code",
   "execution_count": 9,
   "metadata": {},
   "outputs": [
    {
     "name": "stdout",
     "output_type": "stream",
     "text": [
      "Seed: 0 -- Time: 02m 15.02s  100 % [====================>]  Cost: 4.23E-05  8.45E-10  2.02E-11  3.00E-11  4.16E-03  8.40E-06  7.77E-04  1.63E-03  1.13E-05  3.11E+01  ,  \n",
      "END!\n",
      "Seed: 1 -- Time: 02m 29.28s  100 % [====================>]  Cost: 5.87E-06  1.39E-09  1.93E-12  2.89E-11  4.07E-04  1.03E-05  3.64E-04  1.47E-03  1.19E-05  3.95E+01  ,  \n",
      "END!\n",
      "Seed: 2 -- Time: 02m 17.29s  100 % [====================>]  Cost: 8.48E-06  1.56E-10  3.18E-11  1.93E-12  4.94E-04  3.65E-06  1.03E-03  1.53E-03  8.82E-06  4.08E+01  ,  \n",
      "END!\n",
      "Seed: 3 -- Time: 02m 21.81s  100 % [====================>]  Cost: 5.02E-06  8.77E-10  2.49E-12  1.67E-09  3.14E-04  8.87E-06  4.62E-04  1.76E-03  1.66E-05  4.66E+01  ,  \n",
      "END!\n",
      "Seed: 4 -- Time: 02m 6.43s  100 % [====================>]  Cost: 4.42E-06  1.52E-09  6.30E-12  8.28E-11  3.95E-04  1.05E-05  5.77E-04  8.31E-04  9.61E-06  4.13E+01  ,  \n",
      "END!\n",
      "Seed: 5 -- Time: 02m 17.94s  100 % [====================>]  Cost: 9.20E-07  3.17E-09  3.10E-12  5.29E-11  5.52E-05  1.72E-05  3.97E-04  3.47E-03  1.53E-05  4.35E+01  ,  \n",
      "END!\n",
      "Seed: 6 -- Time: 02m 4.91s  100 % [====================>]  Cost: 1.29E-05  1.51E-09  2.27E-11  4.36E-11  6.36E-04  1.14E-05  7.83E-04  1.44E-03  2.12E-05  3.87E+01  ,  \n",
      "END!\n",
      "Seed: 7 -- Time: 02m 5.35s  100 % [====================>]  Cost: 6.53E-05  3.02E-10  4.53E-12  7.75E-09  4.97E-03  4.83E-06  5.21E-04  1.28E-03  5.47E-06  3.59E+01  ,  \n",
      "END!\n",
      "Seed: 8 -- Time: 02m 3.24s  100 % [====================>]  Cost: 5.88E-06  7.23E-10  2.47E-11  2.35E-11  3.70E-04  6.90E-06  8.06E-04  1.22E-03  9.88E-03  4.15E+01  ,  \n",
      "END!\n",
      "Seed: 9 -- Time: 02m 7.23s  100 % [====================>]  Cost: 6.68E-06  1.80E-10  4.08E-11  4.04E-12  5.45E-04  3.52E-06  1.14E-03  1.67E-03  1.97E-05  4.00E+01  ,  \n",
      "END!\n",
      "Seed: 10 -- Time: 02m 17.08s  100 % [====================>]  Cost: 6.50E-05  1.72E-09  1.03E-11  1.74E-10  4.14E-03  1.18E-05  7.17E-04  1.85E-03  9.98E-06  4.60E+01  ,  \n",
      "END!\n",
      "Seed: 11 -- Time: 02m 4.60s  100 % [====================>]  Cost: 4.13E-06  4.66E-09  1.88E-12  1.01E-10  3.08E-04  1.84E-05  4.01E-04  1.27E-03  1.17E-05  3.78E+01  ,  \n",
      "END!\n",
      "Seed: 12 -- Time: 02m 12.54s  100 % [====================>]  Cost: 1.42E-06  1.40E-09  1.09E-11  1.84E-11  1.09E-04  1.05E-05  6.30E-04  1.62E-03  1.37E-05  3.61E+01  ,  \n",
      "END!\n",
      "Seed: 13 -- Time: 02m 24.27s  100 % [====================>]  Cost: 7.88E-06  3.50E-09  1.38E-12  6.13E-12  7.00E-04  1.61E-05  3.52E-04  1.33E-03  1.20E-05  3.28E+01  ,  \n",
      "END!\n",
      "Seed: 14 -- Time: 02m 24.07s  100 % [====================>]  Cost: 1.12E-05  4.99E-10  1.45E-12  4.45E-11  9.48E-04  6.15E-06  3.60E-04  1.50E-03  8.43E-06  4.61E+01  ,  \n",
      "END!\n",
      "Seed: 15 -- Time: 02m 9.65s  100 % [====================>]  Cost: 3.90E-05  5.43E-10  7.60E-12  2.01E-11  2.52E-03  6.34E-06  6.87E-04  1.59E-03  7.27E-06  4.41E+01  ,  \n",
      "END!\n",
      "Seed: 16 -- Time: 02m 14.13s  100 % [====================>]  Cost: 1.03E-05  2.14E-10  5.09E-11  8.98E-11  6.57E-04  4.11E-06  9.59E-04  8.28E-04  1.53E-05  4.40E+01  ,  \n",
      "END!\n",
      "Seed: 17 -- Time: 02m 5.07s  100 % [====================>]  Cost: 2.90E-05  2.23E-10  1.53E-11  1.86E-11  2.28E-03  4.17E-06  7.70E-04  1.24E-03  1.64E-05  3.00E+01  ,  \n",
      "END!\n",
      "Seed: 18 -- Time: 02m 7.35s  100 % [====================>]  Cost: 4.70E-06  2.02E-09  4.20E-12  2.98E-12  3.67E-04  1.24E-05  4.67E-04  9.71E-04  2.20E-05  4.74E+01  ,  \n",
      "END!\n",
      "Seed: 19 -- Time: 02m 11.94s  100 % [====================>]  Cost: 6.86E-07  1.32E-10  1.39E-12  1.23E-08  6.25E-05  3.75E-06  3.15E-04  1.91E-03  1.28E-05  3.14E+01  ,  \n",
      "END!\n",
      "Seed: 20 -- Time: 02m 4.88s  100 % [====================>]  Cost: 3.09E-06  3.68E-10  6.16E-12  3.55E-12  2.42E-04  5.35E-06  5.15E-04  1.00E-03  5.20E-06  3.98E+01  ,  \n",
      "END!\n",
      "Seed: 21 -- Time: 02m 2.68s  100 % [====================>]  Cost: 1.86E-06  4.71E-10  9.58E-12  4.39E-12  1.61E-04  6.10E-06  6.10E-04  1.18E+02  2.69E-05  4.43E+01  ,  \n",
      "END!\n",
      "Seed: 22 -- Time: 02m 7.84s  100 % [====================>]  Cost: 2.41E-05  5.78E-10  8.16E-11  2.21E-11  1.23E-03  6.77E-06  8.99E-04  1.36E-03  9.22E-06  2.93E+01  ,  \n",
      "END!\n",
      "Seed: 23 -- Time: 02m 7.78s  100 % [====================>]  Cost: 1.42E-06  8.24E-10  6.14E-13  5.88E-12  1.33E-04  8.19E-06  2.69E-04  9.33E-04  8.76E-06  3.25E+01  ,  \n",
      "END!\n",
      "Seed: 24 -- Time: 02m 0.22s  100 % [====================>]  Cost: 1.55E-05  2.52E-10  1.15E-11  6.77E-12  1.37E-03  4.45E-06  7.66E-04  1.08E-03  8.03E-06  2.49E+01  ,  \n",
      "END!\n",
      "Seed: 25 -- Time: 02m 3.32s  100 % [====================>]  Cost: 5.18E-06  1.69E-10  1.92E-12  1.29E-11  4.67E-04  3.75E-06  3.80E-04  1.32E-03  7.41E-03  3.74E+01  ,  \n",
      "END!\n",
      "Seed: 26 -- Time: 02m 4.76s  100 % [====================>]  Cost: 2.63E-05  1.53E-10  2.13E-12  1.31E-11  1.59E-03  3.35E-06  3.77E-04  1.88E-03  1.52E-05  4.46E+01  ,  \n",
      "END!\n",
      "Seed: 27 -- Time: 02m 2.95s  100 % [====================>]  Cost: 8.09E-06  9.33E-09  1.32E-13  3.93E-11  6.60E-04  2.79E-05  1.42E-04  1.19E-03  2.24E-05  2.01E+01  ,  \n",
      "END!\n",
      "Seed: 28 -- Time: 02m 6.28s  100 % [====================>]  Cost: 1.17E-04  1.19E-09  6.97E-13  1.18E-11  1.11E-02  9.55E-06  2.64E-04  1.20E-03  9.55E-06  4.35E+01  ,  \n",
      "END!\n",
      "Seed: 29 -- Time: 02m 4.97s  100 % [====================>]  Cost: 5.76E-06  5.73E-10  1.28E-10  2.91E-11  3.24E-04  6.68E-06  1.70E-03  1.08E-03  1.79E-05  4.12E+01  ,  \n",
      "END!\n",
      "DONE!\n",
      "Done\n"
     ]
    }
   ],
   "source": [
    "baseModel.run(\n",
    "    nb_run= 30,\n",
    "    save_path= './RESULTS/MaTGA_cec17.mso'\n",
    ")"
   ]
  },
  {
   "cell_type": "code",
   "execution_count": 11,
   "metadata": {},
   "outputs": [
    {
     "name": "stdout",
     "output_type": "stream",
     "text": [
      "Error when create object DictType. Using Temp class instead\n",
      "Error when create object UnicodeType. Using Temp class instead\n",
      "Error when create object Float. Using Temp class instead\n",
      "Error when create object Tuple. Using Temp class instead\n",
      "Error when create object UnionType. Using Temp class instead\n",
      "Error while create instance model for <class 'pyMSOO.utils.EA.Population'>. Using Temp class instead\n",
      "Error while create instance model for <class 'pyMSOO.utils.EA.SubPopulation'>. Using Temp class instead\n"
     ]
    }
   ],
   "source": [
    "from pyMSOO.utils.LoadSaveModel.LoadModel import loadModel\n",
    "\n",
    "baseModel = loadModel('./RESULTS/MaTGA_cec17.mso', ls_tasks= tasks, set_attribute= True)"
   ]
  },
  {
   "cell_type": "code",
   "execution_count": null,
   "metadata": {},
   "outputs": [],
   "source": [
    "baseModel.render_history()\n",
    "print()"
   ]
  },
  {
   "cell_type": "code",
   "execution_count": 3,
   "metadata": {},
   "outputs": [],
   "source": [
    "import numpy as np"
   ]
  },
  {
   "cell_type": "code",
   "execution_count": 5,
   "metadata": {},
   "outputs": [
    {
     "name": "stderr",
     "output_type": "stream",
     "text": [
      "C:\\Users\\Acer\\AppData\\Local\\Temp\\ipykernel_11796\\3566917858.py:1: RuntimeWarning: divide by zero encountered in log\n",
      "  np.log(0/1e-6)\n"
     ]
    },
    {
     "data": {
      "text/plain": [
       "-inf"
      ]
     },
     "execution_count": 5,
     "metadata": {},
     "output_type": "execute_result"
    }
   ],
   "source": [
    "np.log(0/1e-6)"
   ]
  },
  {
   "cell_type": "code",
   "execution_count": 10,
   "metadata": {},
   "outputs": [],
   "source": [
    "import pandas as pd\n",
    "\n",
    "df = pd.read_csv(r\"F:\\BTVN\\DSAI\\Optimization Lab\\Paper\\Efficient knowledge transfer\\history_cost_summaries_MaTGA3.csv\")"
   ]
  },
  {
   "cell_type": "code",
   "execution_count": 19,
   "metadata": {},
   "outputs": [
    {
     "data": {
      "text/plain": [
       "0"
      ]
     },
     "execution_count": 19,
     "metadata": {},
     "output_type": "execute_result"
    }
   ],
   "source": [
    "sum(df['MaTGA_Tung'][-50:] < df[\"MaTGA\"][-50:])"
   ]
  },
  {
   "cell_type": "code",
   "execution_count": 20,
   "metadata": {},
   "outputs": [
    {
     "name": "stdout",
     "output_type": "stream",
     "text": [
      "Seed: None -- Time: 29m 39.52s  100 % [====================>]  Cost: 5.63E-03  3.92E+02  6.79E-04  1.02E+00  1.20E+04  3.34E-03  3.88E+02  4.97E-03  7.22E-01  5.61E+03  1.73E-02  3.53E+02  9.83E-04  5.00E+00  1.27E+04  4.49E-03  3.45E+02  3.30E-03  1.72E+00  1.17E+04  2.61E-03  3.82E+02  1.47E-03  4.44E+00  1.26E+04  1.17E-02  3.90E+02  1.08E-03  1.07E+00  1.08E+04  6.76E-03  3.97E+02  3.60E-04  5.89E+00  3.28E+03  3.94E-02  3.67E+02  3.55E-04  7.33E+00  5.39E+03  9.86E-03  3.78E+02  2.72E-03  9.80E+00  1.24E+04  5.77E-03  4.10E+02  8.50E-04  5.52E+00  1.14E+04  ,  \n",
      "END!\n"
     ]
    }
   ],
   "source": [
    "res = []\n",
    "# for i in range(1, 11):\n",
    "t, ic = WCCI22_benchmark.get_50tasks_benchmark(10)\n",
    "baseModel = model()\n",
    "baseModel.compile(\n",
    "    IndClass= ic,\n",
    "    tasks= t,\n",
    "    # crossover = KL_SBXCrossover(nc= 2, k= 100, conf_thres= 1),\n",
    "    crossover= SBX_Crossover(nc = 2),\n",
    "    mutation= PolynomialMutation(nm = 5),\n",
    "    selection= ElitismSelection(),\n",
    "    dimension_strategy= DaS_strategy()\n",
    ")\n",
    "solve = baseModel.fit(\n",
    "    nb_generations = 1000, nb_inds_each_task= 100, \n",
    "    bound_pop= [0, 1], evaluate_initial_skillFactor= True\n",
    ")\n",
    "\n",
    "# res.append([subpop.getSolveInd().fcost for subpop in baseModel.last_pop])"
   ]
  },
  {
   "cell_type": "code",
   "execution_count": 21,
   "metadata": {},
   "outputs": [],
   "source": [
    "f = np.array([subpop.getSolveInd().fcost for subpop in baseModel.last_pop])"
   ]
  },
  {
   "cell_type": "code",
   "execution_count": 22,
   "metadata": {},
   "outputs": [],
   "source": [
    "f = np.where(f < 1e-6, 0, f)"
   ]
  },
  {
   "cell_type": "code",
   "execution_count": 23,
   "metadata": {},
   "outputs": [
    {
     "data": {
      "text/plain": [
       "28"
      ]
     },
     "execution_count": 23,
     "metadata": {},
     "output_type": "execute_result"
    }
   ],
   "source": [
    "sum(f < df[\"MaTGA\"][-50:])"
   ]
  },
  {
   "cell_type": "code",
   "execution_count": 26,
   "metadata": {},
   "outputs": [
    {
     "data": {
      "text/plain": [
       "28"
      ]
     },
     "execution_count": 26,
     "metadata": {},
     "output_type": "execute_result"
    }
   ],
   "source": [
    "sum(f < df[\"MaTGA_Tung\"][-50:])"
   ]
  },
  {
   "cell_type": "code",
   "execution_count": 25,
   "metadata": {},
   "outputs": [
    {
     "data": {
      "text/plain": [
       "0"
      ]
     },
     "execution_count": 25,
     "metadata": {},
     "output_type": "execute_result"
    }
   ],
   "source": [
    "sum(df[\"MaTGA_Tung\"][-50:] < df[\"MaTGA\"][-50:])"
   ]
  },
  {
   "cell_type": "code",
   "execution_count": null,
   "metadata": {},
   "outputs": [],
   "source": []
  }
 ],
 "metadata": {
  "kernelspec": {
   "display_name": "MFEA",
   "language": "python",
   "name": "python3"
  },
  "language_info": {
   "codemirror_mode": {
    "name": "ipython",
    "version": 3
   },
   "file_extension": ".py",
   "mimetype": "text/x-python",
   "name": "python",
   "nbconvert_exporter": "python",
   "pygments_lexer": "ipython3",
   "version": "3.8.16"
  },
  "orig_nbformat": 4,
  "vscode": {
   "interpreter": {
    "hash": "4a3c9e26fdc3510968d8c8d0068758f6f26fdb383cb924cc52c2f44397c2f98e"
   }
  }
 },
 "nbformat": 4,
 "nbformat_minor": 2
}
